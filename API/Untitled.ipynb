{
 "cells": [
  {
   "cell_type": "code",
   "execution_count": 1,
   "id": "98c6ab12",
   "metadata": {},
   "outputs": [
    {
     "ename": "ModuleNotFoundError",
     "evalue": "No module named 'twarc'",
     "output_type": "error",
     "traceback": [
      "\u001b[1;31m---------------------------------------------------------------------------\u001b[0m",
      "\u001b[1;31mModuleNotFoundError\u001b[0m                       Traceback (most recent call last)",
      "\u001b[1;32m~\\AppData\\Local\\Temp\\ipykernel_12248\\432047283.py\u001b[0m in \u001b[0;36m<module>\u001b[1;34m\u001b[0m\n\u001b[1;32m----> 1\u001b[1;33m \u001b[1;32mfrom\u001b[0m \u001b[0mtwarc\u001b[0m \u001b[1;32mimport\u001b[0m \u001b[0mTwarc2\u001b[0m\u001b[1;33m,\u001b[0m \u001b[0mexpansions\u001b[0m\u001b[1;33m\u001b[0m\u001b[1;33m\u001b[0m\u001b[0m\n\u001b[0m\u001b[0;32m      2\u001b[0m \u001b[1;32mimport\u001b[0m \u001b[0mdatetime\u001b[0m\u001b[1;33m\u001b[0m\u001b[1;33m\u001b[0m\u001b[0m\n\u001b[0;32m      3\u001b[0m \u001b[1;32mimport\u001b[0m \u001b[0mjson\u001b[0m\u001b[1;33m\u001b[0m\u001b[1;33m\u001b[0m\u001b[0m\n\u001b[0;32m      4\u001b[0m \u001b[1;33m\u001b[0m\u001b[0m\n\u001b[0;32m      5\u001b[0m \u001b[1;31m# Replace your bearer token below\u001b[0m\u001b[1;33m\u001b[0m\u001b[1;33m\u001b[0m\u001b[1;33m\u001b[0m\u001b[0m\n",
      "\u001b[1;31mModuleNotFoundError\u001b[0m: No module named 'twarc'"
     ]
    }
   ],
   "source": [
    "from twarc import Twarc2, expansions\n",
    "import datetime\n",
    "import json\n",
    "\n",
    "# Replace your bearer token below\n",
    "client = Twarc2(bearer_token=\"AAAAAAAAAAAAAAAAAAAAAPpkkAEAAAAAKL39DCq6ZPFGvgdMWHeogkMC%2FCY%3DHFILgAyE2UpPxfiiufeIva5NX8iBHMZRPDlSuLqJDO6IKJurPH\")\n",
    "\n",
    "\n",
    "def main():\n",
    "    # Specify the start time in UTC for the time period you want Tweets from\n",
    "    start_time = datetime.datetime(2021, 12, 6, 0, 0, 0, 0, datetime.timezone.utc)\n",
    "\n",
    "    # Specify the end time in UTC for the time period you want Tweets from\n",
    "    end_time = datetime.datetime(2022, 12, 6, 0, 0, 0, 0, datetime.timezone.utc)\n",
    "\n",
    "    # This is where we specify our query as discussed in module 5\n",
    "    query = \"from:twitterdev -is:retweet\"\n",
    "\n",
    "    # The search_recent method call the recent search endpoint to get Tweets based on the query, start and end times\n",
    "    search_results = client.search_recent(query=query, start_time=start_time, end_time=end_time, max_results=100)\n",
    "\n",
    "    # Twarc returns all Tweets for the criteria set above, so we page through the results\n",
    "    for page in search_results:\n",
    "        # The Twitter API v2 returns the Tweet information and the user, media etc.  separately\n",
    "        # so we use expansions.flatten to get all the information in a single JSON\n",
    "        result = expansions.flatten(page)\n",
    "        for tweet in result:\n",
    "            # Here we are printing the recent Tweet object JSON to the console\n",
    "            print(json.dumps(tweet))\n",
    "\n",
    "\n",
    "if __name__ == \"__main__\":\n",
    "    main()"
   ]
  },
  {
   "cell_type": "code",
   "execution_count": null,
   "id": "add3d43b",
   "metadata": {},
   "outputs": [],
   "source": []
  }
 ],
 "metadata": {
  "kernelspec": {
   "display_name": "Python 3 (ipykernel)",
   "language": "python",
   "name": "python3"
  },
  "language_info": {
   "codemirror_mode": {
    "name": "ipython",
    "version": 3
   },
   "file_extension": ".py",
   "mimetype": "text/x-python",
   "name": "python",
   "nbconvert_exporter": "python",
   "pygments_lexer": "ipython3",
   "version": "3.7.15"
  }
 },
 "nbformat": 4,
 "nbformat_minor": 5
}
