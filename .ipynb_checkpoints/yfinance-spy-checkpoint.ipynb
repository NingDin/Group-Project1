{
 "cells": [
  {
   "cell_type": "code",
   "execution_count": 2,
   "id": "7312f41e",
   "metadata": {},
   "outputs": [],
   "source": [
    "import yfinance as yf\n",
    "import pandas as pd\n",
    "# pip install yfinance\n",
    "from pprint import pprint\n",
    "from pandas_profiling import ProfileReport\n",
    "import numpy as np\n",
    "import scipy.stats as st\n",
    "import plotly.graph_objects as go # for candle chart # next round future\n",
    "import matplotlib.pyplot as plt\n",
    "from datetime import datetime # convert timestamp and revese to string\n",
    "%matplotlib inline\n",
    "import quantstats as qs\n"
   ]
  },
  {
   "cell_type": "markdown",
   "id": "be1f573e",
   "metadata": {},
   "source": [
    "# Time Handler function()1"
   ]
  },
  {
   "cell_type": "code",
   "execution_count": 3,
   "id": "2712e82b",
   "metadata": {},
   "outputs": [],
   "source": [
    "# from datetime import datetime\n",
    "def dftimeStaptoString(df):\n",
    "    df.index.strftime(\"%Y-%m-%d\")\n",
    "    return df"
   ]
  },
  {
   "cell_type": "markdown",
   "id": "776ed52b",
   "metadata": {},
   "source": [
    "# Time Handler function()2"
   ]
  },
  {
   "cell_type": "code",
   "execution_count": 4,
   "id": "8061e67e",
   "metadata": {},
   "outputs": [],
   "source": [
    "def timeHandlerFC(df):\n",
    "    df=df.assign(year=df.index.year, month=df.index.month,day=df.index.day)\n",
    "    return df"
   ]
  },
  {
   "cell_type": "markdown",
   "id": "7b9c47e7",
   "metadata": {},
   "source": [
    "# Build VolumeOverPriceTool"
   ]
  },
  {
   "cell_type": "code",
   "execution_count": 5,
   "id": "d45275c8",
   "metadata": {},
   "outputs": [],
   "source": [
    "# df:dataframe from yfinance\n",
    "#x price interval for underlying price\n",
    "#n slicer where interval start\n",
    "#m slicer where interval end\n",
    "# it build analysis base on close price and sum of the history vloume over price\n",
    "# seek to find the signficance of price that interpreted by volume\n",
    "def volumeonPriceintervalFC(df,x,n,m):\n",
    "    binn=np.arange(0,480,x).tolist()\n",
    "    result=pd.cut(df['Close'],bins=binn)\n",
    "    df['Range']=result\n",
    "    fm=df.groupby(['Range']).sum()['Volume'][n:m]  \n",
    "    gp=fm.plot(kind='bar')\n",
    "    return gp,fm\n",
    "    \n",
    "    "
   ]
  },
  {
   "cell_type": "markdown",
   "id": "911285ec",
   "metadata": {},
   "source": [
    "# Caculate rate of changes"
   ]
  },
  {
   "cell_type": "code",
   "execution_count": 6,
   "id": "2e876364",
   "metadata": {},
   "outputs": [],
   "source": [
    "# notice a good way to understand how it work is to write a function.\n"
   ]
  },
  {
   "cell_type": "code",
   "execution_count": null,
   "id": "6ca7e221",
   "metadata": {},
   "outputs": [],
   "source": []
  },
  {
   "cell_type": "markdown",
   "id": "a0128d98",
   "metadata": {},
   "source": [
    "# Caculate Log Return"
   ]
  },
  {
   "cell_type": "markdown",
   "id": "5ae003f5",
   "metadata": {},
   "source": [
    "# Build Graphic Generator"
   ]
  },
  {
   "cell_type": "code",
   "execution_count": 7,
   "id": "dac59856",
   "metadata": {},
   "outputs": [],
   "source": [
    "# note input has to be us stock ticker a commpany wiht \"\"; eg input=\"SPY\"\n",
    "# start/end date has to be \"YYYY-MM-DD\" format\n",
    "def givemeachart(input,start,end): # is this the dependency not within the function?# notice need to put diff quotation on it\n",
    "    ticker=yf.Ticker(input)\n",
    "    Fetched=ticker.history(start=start,end=end)\n",
    "    plt.figure(figsize=(10,6))\n",
    "    performance=plt.plot(Fetched['Close'])\n",
    "    plt.grid()\n",
    "    plt.show()\n",
    "# looking for the documentary to define the functions"
   ]
  },
  {
   "cell_type": "markdown",
   "id": "a44cbd69",
   "metadata": {},
   "source": [
    "# Down Load the SPY Data Frame"
   ]
  },
  {
   "cell_type": "code",
   "execution_count": 8,
   "id": "d8ed9d66",
   "metadata": {
    "scrolled": true
   },
   "outputs": [
    {
     "name": "stdout",
     "output_type": "stream",
     "text": [
      "[*********************100%***********************]  1 of 1 completed\n"
     ]
    },
    {
     "data": {
      "text/html": [
       "<div>\n",
       "<style scoped>\n",
       "    .dataframe tbody tr th:only-of-type {\n",
       "        vertical-align: middle;\n",
       "    }\n",
       "\n",
       "    .dataframe tbody tr th {\n",
       "        vertical-align: top;\n",
       "    }\n",
       "\n",
       "    .dataframe thead th {\n",
       "        text-align: right;\n",
       "    }\n",
       "</style>\n",
       "<table border=\"1\" class=\"dataframe\">\n",
       "  <thead>\n",
       "    <tr style=\"text-align: right;\">\n",
       "      <th></th>\n",
       "      <th>Open</th>\n",
       "      <th>High</th>\n",
       "      <th>Low</th>\n",
       "      <th>Close</th>\n",
       "      <th>Adj Close</th>\n",
       "      <th>Volume</th>\n",
       "    </tr>\n",
       "    <tr>\n",
       "      <th>Date</th>\n",
       "      <th></th>\n",
       "      <th></th>\n",
       "      <th></th>\n",
       "      <th></th>\n",
       "      <th></th>\n",
       "      <th></th>\n",
       "    </tr>\n",
       "  </thead>\n",
       "  <tbody>\n",
       "    <tr>\n",
       "      <th>1993-01-29</th>\n",
       "      <td>43.968750</td>\n",
       "      <td>43.968750</td>\n",
       "      <td>43.750000</td>\n",
       "      <td>43.937500</td>\n",
       "      <td>25.334024</td>\n",
       "      <td>1003200</td>\n",
       "    </tr>\n",
       "    <tr>\n",
       "      <th>1993-02-01</th>\n",
       "      <td>43.968750</td>\n",
       "      <td>44.250000</td>\n",
       "      <td>43.968750</td>\n",
       "      <td>44.250000</td>\n",
       "      <td>25.514210</td>\n",
       "      <td>480500</td>\n",
       "    </tr>\n",
       "    <tr>\n",
       "      <th>1993-02-02</th>\n",
       "      <td>44.218750</td>\n",
       "      <td>44.375000</td>\n",
       "      <td>44.125000</td>\n",
       "      <td>44.343750</td>\n",
       "      <td>25.568258</td>\n",
       "      <td>201300</td>\n",
       "    </tr>\n",
       "    <tr>\n",
       "      <th>1993-02-03</th>\n",
       "      <td>44.406250</td>\n",
       "      <td>44.843750</td>\n",
       "      <td>44.375000</td>\n",
       "      <td>44.812500</td>\n",
       "      <td>25.838541</td>\n",
       "      <td>529400</td>\n",
       "    </tr>\n",
       "    <tr>\n",
       "      <th>1993-02-04</th>\n",
       "      <td>44.968750</td>\n",
       "      <td>45.093750</td>\n",
       "      <td>44.468750</td>\n",
       "      <td>45.000000</td>\n",
       "      <td>25.946655</td>\n",
       "      <td>531500</td>\n",
       "    </tr>\n",
       "    <tr>\n",
       "      <th>...</th>\n",
       "      <td>...</td>\n",
       "      <td>...</td>\n",
       "      <td>...</td>\n",
       "      <td>...</td>\n",
       "      <td>...</td>\n",
       "      <td>...</td>\n",
       "    </tr>\n",
       "    <tr>\n",
       "      <th>2022-11-28</th>\n",
       "      <td>399.089996</td>\n",
       "      <td>400.809998</td>\n",
       "      <td>395.109985</td>\n",
       "      <td>395.910004</td>\n",
       "      <td>395.910004</td>\n",
       "      <td>67881600</td>\n",
       "    </tr>\n",
       "    <tr>\n",
       "      <th>2022-11-29</th>\n",
       "      <td>396.049988</td>\n",
       "      <td>397.299988</td>\n",
       "      <td>393.299988</td>\n",
       "      <td>395.230011</td>\n",
       "      <td>395.230011</td>\n",
       "      <td>52310000</td>\n",
       "    </tr>\n",
       "    <tr>\n",
       "      <th>2022-11-30</th>\n",
       "      <td>395.489990</td>\n",
       "      <td>407.679993</td>\n",
       "      <td>393.480011</td>\n",
       "      <td>407.679993</td>\n",
       "      <td>407.679993</td>\n",
       "      <td>144566700</td>\n",
       "    </tr>\n",
       "    <tr>\n",
       "      <th>2022-12-01</th>\n",
       "      <td>408.769989</td>\n",
       "      <td>410.000000</td>\n",
       "      <td>404.750000</td>\n",
       "      <td>407.380005</td>\n",
       "      <td>407.380005</td>\n",
       "      <td>76398200</td>\n",
       "    </tr>\n",
       "    <tr>\n",
       "      <th>2022-12-02</th>\n",
       "      <td>402.250000</td>\n",
       "      <td>407.859985</td>\n",
       "      <td>402.140015</td>\n",
       "      <td>406.910004</td>\n",
       "      <td>406.910004</td>\n",
       "      <td>85273900</td>\n",
       "    </tr>\n",
       "  </tbody>\n",
       "</table>\n",
       "<p>7517 rows × 6 columns</p>\n",
       "</div>"
      ],
      "text/plain": [
       "                  Open        High         Low       Close   Adj Close  \\\n",
       "Date                                                                     \n",
       "1993-01-29   43.968750   43.968750   43.750000   43.937500   25.334024   \n",
       "1993-02-01   43.968750   44.250000   43.968750   44.250000   25.514210   \n",
       "1993-02-02   44.218750   44.375000   44.125000   44.343750   25.568258   \n",
       "1993-02-03   44.406250   44.843750   44.375000   44.812500   25.838541   \n",
       "1993-02-04   44.968750   45.093750   44.468750   45.000000   25.946655   \n",
       "...                ...         ...         ...         ...         ...   \n",
       "2022-11-28  399.089996  400.809998  395.109985  395.910004  395.910004   \n",
       "2022-11-29  396.049988  397.299988  393.299988  395.230011  395.230011   \n",
       "2022-11-30  395.489990  407.679993  393.480011  407.679993  407.679993   \n",
       "2022-12-01  408.769989  410.000000  404.750000  407.380005  407.380005   \n",
       "2022-12-02  402.250000  407.859985  402.140015  406.910004  406.910004   \n",
       "\n",
       "               Volume  \n",
       "Date                   \n",
       "1993-01-29    1003200  \n",
       "1993-02-01     480500  \n",
       "1993-02-02     201300  \n",
       "1993-02-03     529400  \n",
       "1993-02-04     531500  \n",
       "...               ...  \n",
       "2022-11-28   67881600  \n",
       "2022-11-29   52310000  \n",
       "2022-11-30  144566700  \n",
       "2022-12-01   76398200  \n",
       "2022-12-02   85273900  \n",
       "\n",
       "[7517 rows x 6 columns]"
      ]
     },
     "execution_count": 8,
     "metadata": {},
     "output_type": "execute_result"
    }
   ],
   "source": [
    "# While closing price merely refers to the cost of shares at the end of the day, \n",
    "#the adjusted closing price considers other factors like dividends, stock splits,\n",
    "#and new stock offerings. Since the adjusted closing price begins where the closing price ends,\n",
    "#it can be called a more accurate measure of stocks' value.\n",
    "SPYadj=yf.download(\"SPY\")\n",
    "SPYadj"
   ]
  },
  {
   "cell_type": "code",
   "execution_count": 26,
   "id": "e9d5a3ff",
   "metadata": {},
   "outputs": [],
   "source": [
    "qs.extend_pandas() # this is required to pass quantstat to Jupyter"
   ]
  },
  {
   "cell_type": "code",
   "execution_count": 27,
   "id": "75bc70a7",
   "metadata": {
    "scrolled": true
   },
   "outputs": [
    {
     "data": {
      "text/plain": [
       "Date\n",
       "1993-01-29 00:00:00-05:00         NaN\n",
       "1993-02-01 00:00:00-05:00    0.007112\n",
       "1993-02-02 00:00:00-05:00    0.002119\n",
       "1993-02-03 00:00:00-05:00    0.010571\n",
       "1993-02-04 00:00:00-05:00    0.004184\n",
       "                               ...   \n",
       "2022-11-28 00:00:00-05:00   -0.015957\n",
       "2022-11-29 00:00:00-05:00   -0.001718\n",
       "2022-11-30 00:00:00-05:00    0.031501\n",
       "2022-12-01 00:00:00-05:00   -0.000736\n",
       "2022-12-02 00:00:00-05:00   -0.001154\n",
       "Name: Close, Length: 7517, dtype: float64"
      ]
     },
     "execution_count": 27,
     "metadata": {},
     "output_type": "execute_result"
    }
   ],
   "source": [
    "spyqt=qs.utils.download_returns('SPY')\n",
    "spyqt"
   ]
  },
  {
   "cell_type": "code",
   "execution_count": 25,
   "id": "5d084b83",
   "metadata": {},
   "outputs": [
    {
     "data": {
      "text/plain": [
       "0.5777009101755604"
      ]
     },
     "execution_count": 25,
     "metadata": {},
     "output_type": "execute_result"
    }
   ],
   "source": [
    "#Calculate Sharp\n",
    "qs.stats.sharpe(spyqt)"
   ]
  },
  {
   "cell_type": "code",
   "execution_count": 29,
   "id": "233b18b5",
   "metadata": {},
   "outputs": [
    {
     "data": {
      "text/plain": [
       "0.09744106642194894"
      ]
     },
     "execution_count": 29,
     "metadata": {},
     "output_type": "execute_result"
    }
   ],
   "source": [
    "spyqt.cagr()"
   ]
  },
  {
   "cell_type": "code",
   "execution_count": 37,
   "id": "0ae361b9",
   "metadata": {
    "scrolled": false
   },
   "outputs": [
    {
     "data": {
      "image/png": "[encoded data removed]",
      "text/plain": [
       "<Figure size 720x360 with 1 Axes>"
      ]
     },
     "metadata": {},
     "output_type": "display_data"
    }
   ],
   "source": [
    "spyqt.plot_drawdown()"
   ]
  },
  {
   "cell_type": "code",
   "execution_count": 38,
   "id": "2ec37da0",
   "metadata": {},
   "outputs": [
    {
     "data": {
      "image/png": "[encoded data removed]",
      "text/plain": [
       "<Figure size 720x432 with 1 Axes>"
      ]
     },
     "metadata": {},
     "output_type": "display_data"
    }
   ],
   "source": [
    "spyqt.plot_distribution()"
   ]
  },
  {
   "cell_type": "code",
   "execution_count": 35,
   "id": "8e6962f8",
   "metadata": {},
   "outputs": [
    {
     "data": {
      "image/png": "[encoded data removed]",
      "text/plain": [
       "<Figure size 720x360 with 1 Axes>"
      ]
     },
     "metadata": {},
     "output_type": "display_data"
    }
   ],
   "source": [
    "spyqt.plot_drawdowns_periods()"
   ]
  },
  {
   "cell_type": "code",
   "execution_count": 30,
   "id": "6a5d2c00",
   "metadata": {
    "scrolled": false
   },
   "outputs": [
    {
     "data": {
      "text/html": [
       "<div>\n",
       "<style scoped>\n",
       "    .dataframe tbody tr th:only-of-type {\n",
       "        vertical-align: middle;\n",
       "    }\n",
       "\n",
       "    .dataframe tbody tr th {\n",
       "        vertical-align: top;\n",
       "    }\n",
       "\n",
       "    .dataframe thead th {\n",
       "        text-align: right;\n",
       "    }\n",
       "</style>\n",
       "<table border=\"1\" class=\"dataframe\">\n",
       "  <thead>\n",
       "    <tr style=\"text-align: right;\">\n",
       "      <th></th>\n",
       "      <th>JAN</th>\n",
       "      <th>FEB</th>\n",
       "      <th>MAR</th>\n",
       "      <th>APR</th>\n",
       "      <th>MAY</th>\n",
       "      <th>JUN</th>\n",
       "      <th>JUL</th>\n",
       "      <th>AUG</th>\n",
       "      <th>SEP</th>\n",
       "      <th>OCT</th>\n",
       "      <th>NOV</th>\n",
       "      <th>DEC</th>\n",
       "      <th>EOY</th>\n",
       "    </tr>\n",
       "  </thead>\n",
       "  <tbody>\n",
       "    <tr>\n",
       "      <th>1993</th>\n",
       "      <td>0.000000</td>\n",
       "      <td>0.010668</td>\n",
       "      <td>0.022400</td>\n",
       "      <td>-0.025588</td>\n",
       "      <td>0.026969</td>\n",
       "      <td>0.003607</td>\n",
       "      <td>-0.004854</td>\n",
       "      <td>0.038327</td>\n",
       "      <td>-0.007276</td>\n",
       "      <td>0.019728</td>\n",
       "      <td>-1.067342e-02</td>\n",
       "      <td>0.012276</td>\n",
       "      <td>0.087091</td>\n",
       "    </tr>\n",
       "    <tr>\n",
       "      <th>1994</th>\n",
       "      <td>0.034876</td>\n",
       "      <td>-0.029164</td>\n",
       "      <td>-0.041902</td>\n",
       "      <td>0.011212</td>\n",
       "      <td>0.015939</td>\n",
       "      <td>-0.022914</td>\n",
       "      <td>0.032326</td>\n",
       "      <td>0.038122</td>\n",
       "      <td>-0.025255</td>\n",
       "      <td>0.028427</td>\n",
       "      <td>-3.981646e-02</td>\n",
       "      <td>0.007283</td>\n",
       "      <td>0.003973</td>\n",
       "    </tr>\n",
       "    <tr>\n",
       "      <th>1995</th>\n",
       "      <td>0.033608</td>\n",
       "      <td>0.040810</td>\n",
       "      <td>0.027847</td>\n",
       "      <td>0.029623</td>\n",
       "      <td>0.039673</td>\n",
       "      <td>0.020229</td>\n",
       "      <td>0.032165</td>\n",
       "      <td>0.004452</td>\n",
       "      <td>0.042376</td>\n",
       "      <td>-0.002939</td>\n",
       "      <td>4.448077e-02</td>\n",
       "      <td>0.015733</td>\n",
       "      <td>0.380490</td>\n",
       "    </tr>\n",
       "    <tr>\n",
       "      <th>1996</th>\n",
       "      <td>0.035579</td>\n",
       "      <td>0.003190</td>\n",
       "      <td>0.017218</td>\n",
       "      <td>0.010870</td>\n",
       "      <td>0.022700</td>\n",
       "      <td>0.008821</td>\n",
       "      <td>-0.044936</td>\n",
       "      <td>0.019259</td>\n",
       "      <td>0.055872</td>\n",
       "      <td>0.032331</td>\n",
       "      <td>7.300447e-02</td>\n",
       "      <td>-0.023798</td>\n",
       "      <td>0.224974</td>\n",
       "    </tr>\n",
       "    <tr>\n",
       "      <th>1997</th>\n",
       "      <td>0.061786</td>\n",
       "      <td>0.009565</td>\n",
       "      <td>-0.044122</td>\n",
       "      <td>0.062603</td>\n",
       "      <td>0.063207</td>\n",
       "      <td>0.041102</td>\n",
       "      <td>0.079264</td>\n",
       "      <td>-0.051804</td>\n",
       "      <td>0.048091</td>\n",
       "      <td>-0.024503</td>\n",
       "      <td>3.869614e-02</td>\n",
       "      <td>0.019072</td>\n",
       "      <td>0.334751</td>\n",
       "    </tr>\n",
       "    <tr>\n",
       "      <th>1998</th>\n",
       "      <td>0.012879</td>\n",
       "      <td>0.069294</td>\n",
       "      <td>0.048785</td>\n",
       "      <td>0.012791</td>\n",
       "      <td>-0.020770</td>\n",
       "      <td>0.042573</td>\n",
       "      <td>-0.013514</td>\n",
       "      <td>-0.141180</td>\n",
       "      <td>0.063640</td>\n",
       "      <td>0.081081</td>\n",
       "      <td>5.568102e-02</td>\n",
       "      <td>0.065422</td>\n",
       "      <td>0.286925</td>\n",
       "    </tr>\n",
       "    <tr>\n",
       "      <th>1999</th>\n",
       "      <td>0.035226</td>\n",
       "      <td>-0.032068</td>\n",
       "      <td>0.041468</td>\n",
       "      <td>0.037975</td>\n",
       "      <td>-0.022866</td>\n",
       "      <td>0.055379</td>\n",
       "      <td>-0.031022</td>\n",
       "      <td>-0.005179</td>\n",
       "      <td>-0.022337</td>\n",
       "      <td>0.064078</td>\n",
       "      <td>1.665187e-02</td>\n",
       "      <td>0.057109</td>\n",
       "      <td>0.203894</td>\n",
       "    </tr>\n",
       "    <tr>\n",
       "      <th>2000</th>\n",
       "      <td>-0.049788</td>\n",
       "      <td>-0.015226</td>\n",
       "      <td>0.096915</td>\n",
       "      <td>-0.035121</td>\n",
       "      <td>-0.015723</td>\n",
       "      <td>0.019682</td>\n",
       "      <td>-0.015702</td>\n",
       "      <td>0.065341</td>\n",
       "      <td>-0.054862</td>\n",
       "      <td>-0.004678</td>\n",
       "      <td>-7.465265e-02</td>\n",
       "      <td>-0.005227</td>\n",
       "      <td>-0.097416</td>\n",
       "    </tr>\n",
       "    <tr>\n",
       "      <th>2001</th>\n",
       "      <td>0.044459</td>\n",
       "      <td>-0.095387</td>\n",
       "      <td>-0.056037</td>\n",
       "      <td>0.085440</td>\n",
       "      <td>-0.005605</td>\n",
       "      <td>-0.023830</td>\n",
       "      <td>-0.010196</td>\n",
       "      <td>-0.059332</td>\n",
       "      <td>-0.081630</td>\n",
       "      <td>0.013022</td>\n",
       "      <td>7.797710e-02</td>\n",
       "      <td>0.005639</td>\n",
       "      <td>-0.117585</td>\n",
       "    </tr>\n",
       "    <tr>\n",
       "      <th>2002</th>\n",
       "      <td>-0.009799</td>\n",
       "      <td>-0.017936</td>\n",
       "      <td>0.033270</td>\n",
       "      <td>-0.058155</td>\n",
       "      <td>-0.005934</td>\n",
       "      <td>-0.073808</td>\n",
       "      <td>-0.078820</td>\n",
       "      <td>0.006801</td>\n",
       "      <td>-0.104852</td>\n",
       "      <td>0.082284</td>\n",
       "      <td>6.168099e-02</td>\n",
       "      <td>-0.056570</td>\n",
       "      <td>-0.215846</td>\n",
       "    </tr>\n",
       "    <tr>\n",
       "      <th>2003</th>\n",
       "      <td>-0.024594</td>\n",
       "      <td>-0.013479</td>\n",
       "      <td>0.002140</td>\n",
       "      <td>0.084611</td>\n",
       "      <td>0.054837</td>\n",
       "      <td>0.010651</td>\n",
       "      <td>0.018028</td>\n",
       "      <td>0.020625</td>\n",
       "      <td>-0.010906</td>\n",
       "      <td>0.053528</td>\n",
       "      <td>1.092066e-02</td>\n",
       "      <td>0.050313</td>\n",
       "      <td>0.281816</td>\n",
       "    </tr>\n",
       "    <tr>\n",
       "      <th>2004</th>\n",
       "      <td>0.019770</td>\n",
       "      <td>0.013571</td>\n",
       "      <td>-0.013245</td>\n",
       "      <td>-0.018922</td>\n",
       "      <td>0.017123</td>\n",
       "      <td>0.018501</td>\n",
       "      <td>-0.032219</td>\n",
       "      <td>0.002436</td>\n",
       "      <td>0.010037</td>\n",
       "      <td>0.012885</td>\n",
       "      <td>4.451717e-02</td>\n",
       "      <td>0.030121</td>\n",
       "      <td>0.106979</td>\n",
       "    </tr>\n",
       "    <tr>\n",
       "      <th>2005</th>\n",
       "      <td>-0.022421</td>\n",
       "      <td>0.020905</td>\n",
       "      <td>-0.018293</td>\n",
       "      <td>-0.018735</td>\n",
       "      <td>0.032225</td>\n",
       "      <td>0.001515</td>\n",
       "      <td>0.038261</td>\n",
       "      <td>-0.009374</td>\n",
       "      <td>0.008026</td>\n",
       "      <td>-0.023651</td>\n",
       "      <td>4.395286e-02</td>\n",
       "      <td>-0.001914</td>\n",
       "      <td>0.048283</td>\n",
       "    </tr>\n",
       "    <tr>\n",
       "      <th>2006</th>\n",
       "      <td>0.024014</td>\n",
       "      <td>0.005726</td>\n",
       "      <td>0.016504</td>\n",
       "      <td>0.012632</td>\n",
       "      <td>-0.030121</td>\n",
       "      <td>0.002608</td>\n",
       "      <td>0.004478</td>\n",
       "      <td>0.021823</td>\n",
       "      <td>0.027002</td>\n",
       "      <td>0.031517</td>\n",
       "      <td>1.988508e-02</td>\n",
       "      <td>0.013371</td>\n",
       "      <td>0.158452</td>\n",
       "    </tr>\n",
       "    <tr>\n",
       "      <th>2007</th>\n",
       "      <td>0.015041</td>\n",
       "      <td>-0.019617</td>\n",
       "      <td>0.011589</td>\n",
       "      <td>0.044295</td>\n",
       "      <td>0.033921</td>\n",
       "      <td>-0.014621</td>\n",
       "      <td>-0.031310</td>\n",
       "      <td>0.012833</td>\n",
       "      <td>0.038714</td>\n",
       "      <td>0.013566</td>\n",
       "      <td>-3.873237e-02</td>\n",
       "      <td>-0.011261</td>\n",
       "      <td>0.051462</td>\n",
       "    </tr>\n",
       "    <tr>\n",
       "      <th>2008</th>\n",
       "      <td>-0.060461</td>\n",
       "      <td>-0.025843</td>\n",
       "      <td>-0.008942</td>\n",
       "      <td>0.047663</td>\n",
       "      <td>0.015117</td>\n",
       "      <td>-0.083576</td>\n",
       "      <td>-0.008986</td>\n",
       "      <td>0.015454</td>\n",
       "      <td>-0.094174</td>\n",
       "      <td>-0.165186</td>\n",
       "      <td>-6.960687e-02</td>\n",
       "      <td>0.009796</td>\n",
       "      <td>-0.367950</td>\n",
       "    </tr>\n",
       "    <tr>\n",
       "      <th>2009</th>\n",
       "      <td>-0.082114</td>\n",
       "      <td>-0.107449</td>\n",
       "      <td>0.083311</td>\n",
       "      <td>0.099346</td>\n",
       "      <td>0.058454</td>\n",
       "      <td>-0.000655</td>\n",
       "      <td>0.074605</td>\n",
       "      <td>0.036940</td>\n",
       "      <td>0.035457</td>\n",
       "      <td>-0.019225</td>\n",
       "      <td>6.160653e-02</td>\n",
       "      <td>0.019101</td>\n",
       "      <td>0.263518</td>\n",
       "    </tr>\n",
       "    <tr>\n",
       "      <th>2010</th>\n",
       "      <td>-0.036342</td>\n",
       "      <td>0.031195</td>\n",
       "      <td>0.060879</td>\n",
       "      <td>0.015470</td>\n",
       "      <td>-0.079455</td>\n",
       "      <td>-0.051741</td>\n",
       "      <td>0.068300</td>\n",
       "      <td>-0.044980</td>\n",
       "      <td>0.089555</td>\n",
       "      <td>0.038202</td>\n",
       "      <td>-3.330669e-16</td>\n",
       "      <td>0.066852</td>\n",
       "      <td>0.150561</td>\n",
       "    </tr>\n",
       "    <tr>\n",
       "      <th>2011</th>\n",
       "      <td>0.023300</td>\n",
       "      <td>0.034738</td>\n",
       "      <td>0.000120</td>\n",
       "      <td>0.028962</td>\n",
       "      <td>-0.011215</td>\n",
       "      <td>-0.016870</td>\n",
       "      <td>-0.020004</td>\n",
       "      <td>-0.054976</td>\n",
       "      <td>-0.069421</td>\n",
       "      <td>0.109147</td>\n",
       "      <td>-4.063686e-03</td>\n",
       "      <td>0.010448</td>\n",
       "      <td>0.018950</td>\n",
       "    </tr>\n",
       "    <tr>\n",
       "      <th>2012</th>\n",
       "      <td>0.046374</td>\n",
       "      <td>0.043406</td>\n",
       "      <td>0.032164</td>\n",
       "      <td>-0.006676</td>\n",
       "      <td>-0.060056</td>\n",
       "      <td>0.040581</td>\n",
       "      <td>0.011830</td>\n",
       "      <td>0.025053</td>\n",
       "      <td>0.025351</td>\n",
       "      <td>-0.018198</td>\n",
       "      <td>5.659525e-03</td>\n",
       "      <td>0.008935</td>\n",
       "      <td>0.159903</td>\n",
       "    </tr>\n",
       "    <tr>\n",
       "      <th>2013</th>\n",
       "      <td>0.051190</td>\n",
       "      <td>0.012759</td>\n",
       "      <td>0.037971</td>\n",
       "      <td>0.019213</td>\n",
       "      <td>0.023609</td>\n",
       "      <td>-0.013344</td>\n",
       "      <td>0.051677</td>\n",
       "      <td>-0.029992</td>\n",
       "      <td>0.031647</td>\n",
       "      <td>0.046307</td>\n",
       "      <td>2.963784e-02</td>\n",
       "      <td>0.025926</td>\n",
       "      <td>0.323078</td>\n",
       "    </tr>\n",
       "    <tr>\n",
       "      <th>2014</th>\n",
       "      <td>-0.035248</td>\n",
       "      <td>0.045516</td>\n",
       "      <td>0.008295</td>\n",
       "      <td>0.006952</td>\n",
       "      <td>0.023207</td>\n",
       "      <td>0.020645</td>\n",
       "      <td>-0.013438</td>\n",
       "      <td>0.039464</td>\n",
       "      <td>-0.013797</td>\n",
       "      <td>0.023551</td>\n",
       "      <td>2.747185e-02</td>\n",
       "      <td>-0.002536</td>\n",
       "      <td>0.134638</td>\n",
       "    </tr>\n",
       "    <tr>\n",
       "      <th>2015</th>\n",
       "      <td>-0.029629</td>\n",
       "      <td>0.056205</td>\n",
       "      <td>-0.015706</td>\n",
       "      <td>0.009834</td>\n",
       "      <td>0.012856</td>\n",
       "      <td>-0.020312</td>\n",
       "      <td>0.022589</td>\n",
       "      <td>-0.060950</td>\n",
       "      <td>-0.025516</td>\n",
       "      <td>0.085060</td>\n",
       "      <td>3.655216e-03</td>\n",
       "      <td>-0.017282</td>\n",
       "      <td>0.012343</td>\n",
       "    </tr>\n",
       "    <tr>\n",
       "      <th>2016</th>\n",
       "      <td>-0.049787</td>\n",
       "      <td>-0.000826</td>\n",
       "      <td>0.067266</td>\n",
       "      <td>0.003941</td>\n",
       "      <td>0.017012</td>\n",
       "      <td>0.003476</td>\n",
       "      <td>0.036471</td>\n",
       "      <td>0.001198</td>\n",
       "      <td>0.000058</td>\n",
       "      <td>-0.017337</td>\n",
       "      <td>3.683830e-02</td>\n",
       "      <td>0.020272</td>\n",
       "      <td>0.119979</td>\n",
       "    </tr>\n",
       "    <tr>\n",
       "      <th>2017</th>\n",
       "      <td>0.017895</td>\n",
       "      <td>0.039292</td>\n",
       "      <td>0.001250</td>\n",
       "      <td>0.009926</td>\n",
       "      <td>0.014113</td>\n",
       "      <td>0.006375</td>\n",
       "      <td>0.020555</td>\n",
       "      <td>0.002918</td>\n",
       "      <td>0.020149</td>\n",
       "      <td>0.023564</td>\n",
       "      <td>3.056570e-02</td>\n",
       "      <td>0.012128</td>\n",
       "      <td>0.217054</td>\n",
       "    </tr>\n",
       "    <tr>\n",
       "      <th>2018</th>\n",
       "      <td>0.056359</td>\n",
       "      <td>-0.036361</td>\n",
       "      <td>-0.027410</td>\n",
       "      <td>0.005168</td>\n",
       "      <td>0.024309</td>\n",
       "      <td>0.005751</td>\n",
       "      <td>0.037046</td>\n",
       "      <td>0.031920</td>\n",
       "      <td>0.005945</td>\n",
       "      <td>-0.069104</td>\n",
       "      <td>1.854919e-02</td>\n",
       "      <td>-0.088049</td>\n",
       "      <td>-0.045690</td>\n",
       "    </tr>\n",
       "    <tr>\n",
       "      <th>2019</th>\n",
       "      <td>0.080066</td>\n",
       "      <td>0.032416</td>\n",
       "      <td>0.018100</td>\n",
       "      <td>0.040853</td>\n",
       "      <td>-0.063771</td>\n",
       "      <td>0.069587</td>\n",
       "      <td>0.015120</td>\n",
       "      <td>-0.016744</td>\n",
       "      <td>0.019458</td>\n",
       "      <td>0.022105</td>\n",
       "      <td>3.619814e-02</td>\n",
       "      <td>0.029055</td>\n",
       "      <td>0.312239</td>\n",
       "    </tr>\n",
       "    <tr>\n",
       "      <th>2020</th>\n",
       "      <td>-0.000404</td>\n",
       "      <td>-0.079166</td>\n",
       "      <td>-0.124871</td>\n",
       "      <td>0.126984</td>\n",
       "      <td>0.047645</td>\n",
       "      <td>0.017734</td>\n",
       "      <td>0.058892</td>\n",
       "      <td>0.069797</td>\n",
       "      <td>-0.037444</td>\n",
       "      <td>-0.024934</td>\n",
       "      <td>1.087770e-01</td>\n",
       "      <td>0.037048</td>\n",
       "      <td>0.183316</td>\n",
       "    </tr>\n",
       "    <tr>\n",
       "      <th>2021</th>\n",
       "      <td>-0.010190</td>\n",
       "      <td>0.027805</td>\n",
       "      <td>0.045399</td>\n",
       "      <td>0.052910</td>\n",
       "      <td>0.006566</td>\n",
       "      <td>0.022427</td>\n",
       "      <td>0.024413</td>\n",
       "      <td>0.029760</td>\n",
       "      <td>-0.046605</td>\n",
       "      <td>0.070163</td>\n",
       "      <td>-8.034805e-03</td>\n",
       "      <td>0.046248</td>\n",
       "      <td>0.287288</td>\n",
       "    </tr>\n",
       "    <tr>\n",
       "      <th>2022</th>\n",
       "      <td>-0.052741</td>\n",
       "      <td>-0.029517</td>\n",
       "      <td>0.037590</td>\n",
       "      <td>-0.087769</td>\n",
       "      <td>0.002257</td>\n",
       "      <td>-0.082460</td>\n",
       "      <td>0.092087</td>\n",
       "      <td>-0.040802</td>\n",
       "      <td>-0.092446</td>\n",
       "      <td>0.081276</td>\n",
       "      <td>5.559152e-02</td>\n",
       "      <td>-0.001889</td>\n",
       "      <td>-0.133356</td>\n",
       "    </tr>\n",
       "  </tbody>\n",
       "</table>\n",
       "</div>"
      ],
      "text/plain": [
       "           JAN       FEB       MAR       APR       MAY       JUN       JUL  \\\n",
       "1993  0.000000  0.010668  0.022400 -0.025588  0.026969  0.003607 -0.004854   \n",
       "1994  0.034876 -0.029164 -0.041902  0.011212  0.015939 -0.022914  0.032326   \n",
       "1995  0.033608  0.040810  0.027847  0.029623  0.039673  0.020229  0.032165   \n",
       "1996  0.035579  0.003190  0.017218  0.010870  0.022700  0.008821 -0.044936   \n",
       "1997  0.061786  0.009565 -0.044122  0.062603  0.063207  0.041102  0.079264   \n",
       "1998  0.012879  0.069294  0.048785  0.012791 -0.020770  0.042573 -0.013514   \n",
       "1999  0.035226 -0.032068  0.041468  0.037975 -0.022866  0.055379 -0.031022   \n",
       "2000 -0.049788 -0.015226  0.096915 -0.035121 -0.015723  0.019682 -0.015702   \n",
       "2001  0.044459 -0.095387 -0.056037  0.085440 -0.005605 -0.023830 -0.010196   \n",
       "2002 -0.009799 -0.017936  0.033270 -0.058155 -0.005934 -0.073808 -0.078820   \n",
       "2003 -0.024594 -0.013479  0.002140  0.084611  0.054837  0.010651  0.018028   \n",
       "2004  0.019770  0.013571 -0.013245 -0.018922  0.017123  0.018501 -0.032219   \n",
       "2005 -0.022421  0.020905 -0.018293 -0.018735  0.032225  0.001515  0.038261   \n",
       "2006  0.024014  0.005726  0.016504  0.012632 -0.030121  0.002608  0.004478   \n",
       "2007  0.015041 -0.019617  0.011589  0.044295  0.033921 -0.014621 -0.031310   \n",
       "2008 -0.060461 -0.025843 -0.008942  0.047663  0.015117 -0.083576 -0.008986   \n",
       "2009 -0.082114 -0.107449  0.083311  0.099346  0.058454 -0.000655  0.074605   \n",
       "2010 -0.036342  0.031195  0.060879  0.015470 -0.079455 -0.051741  0.068300   \n",
       "2011  0.023300  0.034738  0.000120  0.028962 -0.011215 -0.016870 -0.020004   \n",
       "2012  0.046374  0.043406  0.032164 -0.006676 -0.060056  0.040581  0.011830   \n",
       "2013  0.051190  0.012759  0.037971  0.019213  0.023609 -0.013344  0.051677   \n",
       "2014 -0.035248  0.045516  0.008295  0.006952  0.023207  0.020645 -0.013438   \n",
       "2015 -0.029629  0.056205 -0.015706  0.009834  0.012856 -0.020312  0.022589   \n",
       "2016 -0.049787 -0.000826  0.067266  0.003941  0.017012  0.003476  0.036471   \n",
       "2017  0.017895  0.039292  0.001250  0.009926  0.014113  0.006375  0.020555   \n",
       "2018  0.056359 -0.036361 -0.027410  0.005168  0.024309  0.005751  0.037046   \n",
       "2019  0.080066  0.032416  0.018100  0.040853 -0.063771  0.069587  0.015120   \n",
       "2020 -0.000404 -0.079166 -0.124871  0.126984  0.047645  0.017734  0.058892   \n",
       "2021 -0.010190  0.027805  0.045399  0.052910  0.006566  0.022427  0.024413   \n",
       "2022 -0.052741 -0.029517  0.037590 -0.087769  0.002257 -0.082460  0.092087   \n",
       "\n",
       "           AUG       SEP       OCT           NOV       DEC       EOY  \n",
       "1993  0.038327 -0.007276  0.019728 -1.067342e-02  0.012276  0.087091  \n",
       "1994  0.038122 -0.025255  0.028427 -3.981646e-02  0.007283  0.003973  \n",
       "1995  0.004452  0.042376 -0.002939  4.448077e-02  0.015733  0.380490  \n",
       "1996  0.019259  0.055872  0.032331  7.300447e-02 -0.023798  0.224974  \n",
       "1997 -0.051804  0.048091 -0.024503  3.869614e-02  0.019072  0.334751  \n",
       "1998 -0.141180  0.063640  0.081081  5.568102e-02  0.065422  0.286925  \n",
       "1999 -0.005179 -0.022337  0.064078  1.665187e-02  0.057109  0.203894  \n",
       "2000  0.065341 -0.054862 -0.004678 -7.465265e-02 -0.005227 -0.097416  \n",
       "2001 -0.059332 -0.081630  0.013022  7.797710e-02  0.005639 -0.117585  \n",
       "2002  0.006801 -0.104852  0.082284  6.168099e-02 -0.056570 -0.215846  \n",
       "2003  0.020625 -0.010906  0.053528  1.092066e-02  0.050313  0.281816  \n",
       "2004  0.002436  0.010037  0.012885  4.451717e-02  0.030121  0.106979  \n",
       "2005 -0.009374  0.008026 -0.023651  4.395286e-02 -0.001914  0.048283  \n",
       "2006  0.021823  0.027002  0.031517  1.988508e-02  0.013371  0.158452  \n",
       "2007  0.012833  0.038714  0.013566 -3.873237e-02 -0.011261  0.051462  \n",
       "2008  0.015454 -0.094174 -0.165186 -6.960687e-02  0.009796 -0.367950  \n",
       "2009  0.036940  0.035457 -0.019225  6.160653e-02  0.019101  0.263518  \n",
       "2010 -0.044980  0.089555  0.038202 -3.330669e-16  0.066852  0.150561  \n",
       "2011 -0.054976 -0.069421  0.109147 -4.063686e-03  0.010448  0.018950  \n",
       "2012  0.025053  0.025351 -0.018198  5.659525e-03  0.008935  0.159903  \n",
       "2013 -0.029992  0.031647  0.046307  2.963784e-02  0.025926  0.323078  \n",
       "2014  0.039464 -0.013797  0.023551  2.747185e-02 -0.002536  0.134638  \n",
       "2015 -0.060950 -0.025516  0.085060  3.655216e-03 -0.017282  0.012343  \n",
       "2016  0.001198  0.000058 -0.017337  3.683830e-02  0.020272  0.119979  \n",
       "2017  0.002918  0.020149  0.023564  3.056570e-02  0.012128  0.217054  \n",
       "2018  0.031920  0.005945 -0.069104  1.854919e-02 -0.088049 -0.045690  \n",
       "2019 -0.016744  0.019458  0.022105  3.619814e-02  0.029055  0.312239  \n",
       "2020  0.069797 -0.037444 -0.024934  1.087770e-01  0.037048  0.183316  \n",
       "2021  0.029760 -0.046605  0.070163 -8.034805e-03  0.046248  0.287288  \n",
       "2022 -0.040802 -0.092446  0.081276  5.559152e-02 -0.001889 -0.133356  "
      ]
     },
     "execution_count": 30,
     "metadata": {},
     "output_type": "execute_result"
    }
   ],
   "source": [
    "spyqt.monthly_returns()"
   ]
  },
  {
   "cell_type": "code",
   "execution_count": 39,
   "id": "15cc8b3f",
   "metadata": {},
   "outputs": [
    {
     "data": {
      "image/png": "[encoded data removed]",
      "text/plain": [
       "<Figure size 748.8x720 with 2 Axes>"
      ]
     },
     "metadata": {},
     "output_type": "display_data"
    }
   ],
   "source": [
    "spyqt.plot_monthly_heatmap()"
   ]
  },
  {
   "cell_type": "code",
   "execution_count": 32,
   "id": "3d58002f",
   "metadata": {},
   "outputs": [
    {
     "data": {
      "text/plain": [
       "-0.5518945587327654"
      ]
     },
     "execution_count": 32,
     "metadata": {},
     "output_type": "execute_result"
    }
   ],
   "source": [
    "spyqt.max_drawdown()"
   ]
  },
  {
   "cell_type": "code",
   "execution_count": 28,
   "id": "1eeccede",
   "metadata": {
    "scrolled": true
   },
   "outputs": [
    {
     "data": {
      "image/png": "[encoded data removed]",
      "text/plain": [
       "<Figure size 720x432 with 1 Axes>"
      ]
     },
     "metadata": {},
     "output_type": "display_data"
    }
   ],
   "source": [
    "spyqt.plot_earnings(start_balance=10000) # once qs pandas extend initiate all additional function rdy"
   ]
  },
  {
   "cell_type": "code",
   "execution_count": 17,
   "id": "a1c8bec2",
   "metadata": {},
   "outputs": [
    {
     "ename": "AttributeError",
     "evalue": "'Series' object has no attribute 'plot_earning'",
     "output_type": "error",
     "traceback": [
      "\u001b[1;31m---------------------------------------------------------------------------\u001b[0m",
      "\u001b[1;31mAttributeError\u001b[0m                            Traceback (most recent call last)",
      "Input \u001b[1;32mIn [17]\u001b[0m, in \u001b[0;36m<cell line: 1>\u001b[1;34m()\u001b[0m\n\u001b[1;32m----> 1\u001b[0m \u001b[43mspyqt\u001b[49m\u001b[38;5;241;43m.\u001b[39;49m\u001b[43mplot_earning\u001b[49m\n",
      "File \u001b[1;32mD:\\ANACODA\\lib\\site-packages\\pandas\\core\\generic.py:5575\u001b[0m, in \u001b[0;36mNDFrame.__getattr__\u001b[1;34m(self, name)\u001b[0m\n\u001b[0;32m   5568\u001b[0m \u001b[38;5;28;01mif\u001b[39;00m (\n\u001b[0;32m   5569\u001b[0m     name \u001b[38;5;129;01mnot\u001b[39;00m \u001b[38;5;129;01min\u001b[39;00m \u001b[38;5;28mself\u001b[39m\u001b[38;5;241m.\u001b[39m_internal_names_set\n\u001b[0;32m   5570\u001b[0m     \u001b[38;5;129;01mand\u001b[39;00m name \u001b[38;5;129;01mnot\u001b[39;00m \u001b[38;5;129;01min\u001b[39;00m \u001b[38;5;28mself\u001b[39m\u001b[38;5;241m.\u001b[39m_metadata\n\u001b[0;32m   5571\u001b[0m     \u001b[38;5;129;01mand\u001b[39;00m name \u001b[38;5;129;01mnot\u001b[39;00m \u001b[38;5;129;01min\u001b[39;00m \u001b[38;5;28mself\u001b[39m\u001b[38;5;241m.\u001b[39m_accessors\n\u001b[0;32m   5572\u001b[0m     \u001b[38;5;129;01mand\u001b[39;00m \u001b[38;5;28mself\u001b[39m\u001b[38;5;241m.\u001b[39m_info_axis\u001b[38;5;241m.\u001b[39m_can_hold_identifiers_and_holds_name(name)\n\u001b[0;32m   5573\u001b[0m ):\n\u001b[0;32m   5574\u001b[0m     \u001b[38;5;28;01mreturn\u001b[39;00m \u001b[38;5;28mself\u001b[39m[name]\n\u001b[1;32m-> 5575\u001b[0m \u001b[38;5;28;01mreturn\u001b[39;00m \u001b[38;5;28;43mobject\u001b[39;49m\u001b[38;5;241;43m.\u001b[39;49m\u001b[38;5;21;43m__getattribute__\u001b[39;49m\u001b[43m(\u001b[49m\u001b[38;5;28;43mself\u001b[39;49m\u001b[43m,\u001b[49m\u001b[43m \u001b[49m\u001b[43mname\u001b[49m\u001b[43m)\u001b[49m\n",
      "\u001b[1;31mAttributeError\u001b[0m: 'Series' object has no attribute 'plot_earning'"
     ]
    }
   ],
   "source": []
  },
  {
   "cell_type": "code",
   "execution_count": 9,
   "id": "34e558e8",
   "metadata": {
    "scrolled": false
   },
   "outputs": [
    {
     "name": "stdout",
     "output_type": "stream",
     "text": [
      "<class 'pandas.core.frame.DataFrame'>\n",
      "DatetimeIndex: 7517 entries, 1993-01-29 to 2022-12-02\n",
      "Data columns (total 6 columns):\n",
      " #   Column     Non-Null Count  Dtype  \n",
      "---  ------     --------------  -----  \n",
      " 0   Open       7517 non-null   float64\n",
      " 1   High       7517 non-null   float64\n",
      " 2   Low        7517 non-null   float64\n",
      " 3   Close      7517 non-null   float64\n",
      " 4   Adj Close  7517 non-null   float64\n",
      " 5   Volume     7517 non-null   int64  \n",
      "dtypes: float64(5), int64(1)\n",
      "memory usage: 411.1 KB\n"
     ]
    }
   ],
   "source": [
    "SPYadj.info()"
   ]
  },
  {
   "cell_type": "code",
   "execution_count": null,
   "id": "f562b940",
   "metadata": {
    "scrolled": false
   },
   "outputs": [],
   "source": [
    "SPYadj.dropna()"
   ]
  },
  {
   "cell_type": "code",
   "execution_count": null,
   "id": "783fa6da",
   "metadata": {
    "scrolled": false
   },
   "outputs": [],
   "source": [
    "# note checked the time of data is time-stamp; hence it will be way easier to convert UTC format\n",
    "SPYadj.index[0]"
   ]
  },
  {
   "cell_type": "code",
   "execution_count": null,
   "id": "8c8a9e27",
   "metadata": {
    "scrolled": true
   },
   "outputs": [],
   "source": [
    "SPYadj.assign(year=SPYadj.index.year, month=SPYadj.index.month,day=SPYadj.index.day)"
   ]
  },
  {
   "cell_type": "code",
   "execution_count": null,
   "id": "126b9276",
   "metadata": {
    "scrolled": true
   },
   "outputs": [],
   "source": [
    "SPYadj.reset_index()"
   ]
  },
  {
   "cell_type": "code",
   "execution_count": null,
   "id": "7fc80de3",
   "metadata": {},
   "outputs": [],
   "source": [
    "split(\"1993-01-29\",'-')"
   ]
  },
  {
   "cell_type": "code",
   "execution_count": null,
   "id": "1ca0fd17",
   "metadata": {},
   "outputs": [],
   "source": [
    "fig=go.Figure(data=[go.Candlestick(x=SPYadj['Date'],open=SPYadj['Open'],high=SPYadj['High'],low=SPYadj['Low'],\n",
    "                                  close=SPYadj['close'])\n",
    "                 "
   ]
  },
  {
   "cell_type": "code",
   "execution_count": null,
   "id": "d936d1a1",
   "metadata": {},
   "outputs": [],
   "source": [
    "var_spymaxperiod=np.var(SPYadj['Adj Close'])\n",
    "std_spymaxperiod=np.std(SPYadj['Adj Close'])\n",
    "mean_spymaxperiod=np.mean(SPYadj['Adj Close'])"
   ]
  },
  {
   "cell_type": "code",
   "execution_count": null,
   "id": "346ff190",
   "metadata": {
    "scrolled": true
   },
   "outputs": [],
   "source": [
    "print(f\"Roughly 68% among {mean_spymaxperiod-std_spymaxperiod*1} and {mean_spymaxperiod+std_spymaxperiod*1}\")\n",
    "print(f\"Roughly 95% among {(mean_spymaxperiod-std_spymaxperiod*2)} and {mean_spymaxperiod+std_spymaxperiod*2}\")\n",
    "print(f\"Roughly 99.7% among {mean_spymaxperiod-std_spymaxperiod*3} and {mean_spymaxperiod+std_spymaxperiod*3}\")"
   ]
  },
  {
   "cell_type": "code",
   "execution_count": null,
   "id": "b4bc7c82",
   "metadata": {
    "scrolled": true
   },
   "outputs": [],
   "source": [
    "print(f\"Roughly 68% among {mean_spymaxperiod-std_spymaxperiod*1} and {mean_spymaxperiod+std_spymaxperiod*1}\")\n",
    "print(f\"Roughly 95% among 0 and {mean_spymaxperiod+std_spymaxperiod*2}\")\n",
    "print(f\"Roughly 99.7% among 0 and {mean_spymaxperiod+std_spymaxperiod*3}\")"
   ]
  },
  {
   "cell_type": "code",
   "execution_count": null,
   "id": "990baf69",
   "metadata": {
    "scrolled": true
   },
   "outputs": [],
   "source": [
    "st.normaltest(SPYadj['Adj Close'].sample(1000))"
   ]
  },
  {
   "cell_type": "code",
   "execution_count": null,
   "id": "87e23586",
   "metadata": {},
   "outputs": [],
   "source": [
    "zSpyMaxperiod=st.zscore(SPYadj['Adj Close'])"
   ]
  },
  {
   "cell_type": "code",
   "execution_count": null,
   "id": "ddd24987",
   "metadata": {},
   "outputs": [],
   "source": [
    "spy=yf.Ticker('SPY')\n",
    "type(spy)"
   ]
  },
  {
   "cell_type": "code",
   "execution_count": null,
   "id": "24122303",
   "metadata": {
    "scrolled": true
   },
   "outputs": [],
   "source": [
    "spy.info"
   ]
  },
  {
   "cell_type": "code",
   "execution_count": null,
   "id": "85e9b74c",
   "metadata": {
    "scrolled": true
   },
   "outputs": [],
   "source": [
    "spy.splits"
   ]
  },
  {
   "cell_type": "code",
   "execution_count": null,
   "id": "759b66d3",
   "metadata": {},
   "outputs": [],
   "source": [
    "spy.info.keys() # show higher level frame, see what we can do about it"
   ]
  },
  {
   "cell_type": "code",
   "execution_count": null,
   "id": "16a7cf45",
   "metadata": {},
   "outputs": [],
   "source": [
    "# clean data\n",
    "# deal with time serials of data"
   ]
  },
  {
   "cell_type": "code",
   "execution_count": null,
   "id": "6d9408c8",
   "metadata": {},
   "outputs": [],
   "source": [
    "spy.institutional_holders"
   ]
  },
  {
   "cell_type": "code",
   "execution_count": null,
   "id": "8c3ebe49",
   "metadata": {},
   "outputs": [],
   "source": [
    "spy.earnings_history # need to fetch from bloomberg?"
   ]
  },
  {
   "cell_type": "code",
   "execution_count": null,
   "id": "7de9f933",
   "metadata": {},
   "outputs": [],
   "source": [
    "FetchedSpy=spy.history(period='max')"
   ]
  },
  {
   "cell_type": "code",
   "execution_count": null,
   "id": "da997815",
   "metadata": {
    "scrolled": true
   },
   "outputs": [],
   "source": [
    "print(spy.history(period='max'))"
   ]
  },
  {
   "cell_type": "code",
   "execution_count": null,
   "id": "a5b42a54",
   "metadata": {},
   "outputs": [],
   "source": [
    "FetchedSpy.to_csv(\"SPYoutPut.csv\")"
   ]
  },
  {
   "cell_type": "code",
   "execution_count": null,
   "id": "f2e2cfbe",
   "metadata": {},
   "outputs": [],
   "source": [
    "df=spy.dividends\n",
    "df\n"
   ]
  },
  {
   "cell_type": "code",
   "execution_count": null,
   "id": "1f979c9e",
   "metadata": {},
   "outputs": [],
   "source": [
    "pprint(spy.info)"
   ]
  },
  {
   "cell_type": "code",
   "execution_count": null,
   "id": "61149e73",
   "metadata": {},
   "outputs": [],
   "source": [
    "IndexPE=spy.info['equityHoldings']['priceToEarnings']\n",
    "IndexPE"
   ]
  },
  {
   "cell_type": "code",
   "execution_count": null,
   "id": "b6867fc6",
   "metadata": {},
   "outputs": [],
   "source": [
    "# for key,value in stockinfo.items():\n",
    "#    print(key,':',value)\n",
    "df=spy.dividends\n",
    "dff=df.to_frame()\n",
    "dff"
   ]
  },
  {
   "cell_type": "code",
   "execution_count": null,
   "id": "59c11b71",
   "metadata": {},
   "outputs": [],
   "source": [
    "dir(df) # study these method for fun?"
   ]
  },
  {
   "cell_type": "code",
   "execution_count": null,
   "id": "da3d9176",
   "metadata": {},
   "outputs": [],
   "source": [
    "data=df.resample('Y').sum()\n",
    "data"
   ]
  },
  {
   "cell_type": "code",
   "execution_count": null,
   "id": "7f523440",
   "metadata": {
    "scrolled": true
   },
   "outputs": [],
   "source": [
    "dff2=dff.reset_index()['Date'].dt.year # try how to split them further\n",
    "dff2"
   ]
  },
  {
   "cell_type": "code",
   "execution_count": null,
   "id": "e1c5bb1d",
   "metadata": {},
   "outputs": [],
   "source": [
    "FetchedSpy"
   ]
  },
  {
   "cell_type": "code",
   "execution_count": null,
   "id": "8acdc501",
   "metadata": {},
   "outputs": [],
   "source": [
    "FetchedSpy.shift(1)"
   ]
  },
  {
   "cell_type": "code",
   "execution_count": null,
   "id": "6919fcae",
   "metadata": {},
   "outputs": [],
   "source": [
    "FetchedSpy.describe()"
   ]
  },
  {
   "cell_type": "code",
   "execution_count": null,
   "id": "f0a1e9a2",
   "metadata": {},
   "outputs": [],
   "source": [
    "FetchedSpy['Close'].max()"
   ]
  },
  {
   "cell_type": "code",
   "execution_count": null,
   "id": "d9ae9a49",
   "metadata": {},
   "outputs": [],
   "source": [
    "volumefeedMaxperiod=FetchedSpy.groupby(['Close']).sum()['Volume']\n",
    "volumefeedMaxperiod=volumefeedMaxperiod.reset_index()\n",
    "volumefeedMaxperiod"
   ]
  },
  {
   "cell_type": "code",
   "execution_count": null,
   "id": "67a15a12",
   "metadata": {
    "scrolled": true
   },
   "outputs": [],
   "source": [
    "pricingbin=[0,25,50,75,100,125,150,175,200,225,250,275,300,325,350,375,400,425,450,475]\n",
    "labels=[\"0~25\",\"25~50\",\"50~75\",\"75~100\",\"100~125\",\"125~150\",\"150~175\",\"175~200\",\"200~225\",\"225~250\",\n",
    "      \"250~275\",\"275~300\",\"300~325\",\"325~350\",\"350~375\",\"375~400\",\"400~425\",\"425~450\",\"450~int(FetchedSpy['Close'].max())\"]\n",
    "volumeOverpricelabels=pd.cut(volumefeedMaxperiod['Close'],bins=pricingbin)\n",
    "volumeOverpricelabels"
   ]
  },
  {
   "cell_type": "code",
   "execution_count": null,
   "id": "1a45cb75",
   "metadata": {
    "scrolled": true
   },
   "outputs": [],
   "source": [
    "volumefeedMaxperiod['StockRange']=volumeOverpricelabels\n",
    "volumefeedMaxperiod"
   ]
  },
  {
   "cell_type": "code",
   "execution_count": null,
   "id": "5e1ce067",
   "metadata": {
    "scrolled": false
   },
   "outputs": [],
   "source": [
    "pricevolumeforPlot=volumefeedMaxperiod.groupby(['StockRange']).sum()['Volume']\n",
    "pricevolumeforPlot.plot(kind='bar')"
   ]
  },
  {
   "cell_type": "code",
   "execution_count": null,
   "id": "6a90dfd5",
   "metadata": {},
   "outputs": [],
   "source": [
    "FetchedSpy['Volume'].plot() "
   ]
  },
  {
   "cell_type": "code",
   "execution_count": null,
   "id": "39ba9ea1",
   "metadata": {
    "scrolled": true
   },
   "outputs": [],
   "source": [
    "closerlookvolume=pricevolumeforPlot.loc[pricevolumeforPlot.index[12:]]\n",
    "closerlookvolume.plot(kind='bar')"
   ]
  },
  {
   "cell_type": "code",
   "execution_count": null,
   "id": "9eec8c25",
   "metadata": {
    "scrolled": true
   },
   "outputs": [],
   "source": [
    "byunit10=np.linspace(start=0,stop=480,num=49)\n",
    "byunit10"
   ]
  },
  {
   "cell_type": "code",
   "execution_count": null,
   "id": "f2cecc27",
   "metadata": {},
   "outputs": [],
   "source": [
    "FetchedSpy"
   ]
  },
  {
   "cell_type": "code",
   "execution_count": null,
   "id": "c898003b",
   "metadata": {
    "scrolled": true
   },
   "outputs": [],
   "source": [
    "np.arange(0,480,1)"
   ]
  },
  {
   "cell_type": "code",
   "execution_count": null,
   "id": "116b8df9",
   "metadata": {
    "scrolled": false
   },
   "outputs": [],
   "source": [
    "FetchedSpy"
   ]
  },
  {
   "cell_type": "code",
   "execution_count": null,
   "id": "bf59bd5e",
   "metadata": {},
   "outputs": [],
   "source": [
    "FetchedSpy"
   ]
  },
  {
   "cell_type": "code",
   "execution_count": null,
   "id": "34c89ee6",
   "metadata": {},
   "outputs": [],
   "source": [
    "def volumeonPriceintervalFC(df,x,n,m):\n",
    "    binn=np.arange(0,480,x).tolist()\n",
    "    result=pd.cut(df['Close'],bins=binn)\n",
    "    df['Range']=result\n",
    "    fm=df.groupby(['Range']).sum()['Volume'][n:m]  \n",
    "    gp=fm.plot(kind='bar')\n",
    "    return gp\n",
    "    "
   ]
  },
  {
   "cell_type": "code",
   "execution_count": null,
   "id": "39e05c0a",
   "metadata": {},
   "outputs": [],
   "source": [
    "volumeonPriceintervalFC(df=FetchedSpy,x=1,n=450,m=480)"
   ]
  },
  {
   "cell_type": "code",
   "execution_count": null,
   "id": "c865aa21",
   "metadata": {},
   "outputs": [],
   "source": [
    "type(FetchedSpy['Volume'][0])"
   ]
  },
  {
   "cell_type": "code",
   "execution_count": null,
   "id": "a4151d6d",
   "metadata": {},
   "outputs": [],
   "source": [
    "binn=np.arange(25,480,3).tolist()\n",
    "binn\n",
    "result=pd.cut(FetchedSpy['Close'],bins=binn)\n",
    "result\n",
    "FetchedSpy['Range']=result\n",
    "plott=FetchedSpy.groupby(['Range']).sum()['Volume'][130:]\n",
    "plott.plot(kind='bar')"
   ]
  },
  {
   "cell_type": "code",
   "execution_count": null,
   "id": "50edc9de",
   "metadata": {},
   "outputs": [],
   "source": [
    "labelsBY5=[]"
   ]
  },
  {
   "cell_type": "code",
   "execution_count": null,
   "id": "960e7ed2",
   "metadata": {
    "scrolled": false
   },
   "outputs": [],
   "source": [
    "volumeOverpricelabelsbyUnit10=pd.cut(volumefeedMaxperiod['Close'],bins=byunit10)\n",
    "volumeOverpricelabelsbyUnit10"
   ]
  },
  {
   "cell_type": "code",
   "execution_count": null,
   "id": "ba01536c",
   "metadata": {
    "scrolled": false
   },
   "outputs": [],
   "source": [
    "volumeOverpricelabelsbyUnit10df=volumefeedMaxperiod.copy()\n",
    "volumeOverpricelabelsbyUnit10df['StockRange']=volumeOverpricelabelsbyUnit10\n",
    "volumeOverpricelabelsbyUnit10df"
   ]
  },
  {
   "cell_type": "code",
   "execution_count": null,
   "id": "bce6ae94",
   "metadata": {
    "scrolled": true
   },
   "outputs": [],
   "source": [
    "voulumeoverPriceUnit10=volumeOverpricelabelsbyUnit10df.groupby([\"StockRange\"]).sum()['Volume']\n",
    "voulumeoverPriceUnit10.plot(kind='bar')"
   ]
  },
  {
   "cell_type": "code",
   "execution_count": null,
   "id": "b7480264",
   "metadata": {},
   "outputs": [],
   "source": [
    "len(voulumeoverPriceUnit10)"
   ]
  },
  {
   "cell_type": "code",
   "execution_count": null,
   "id": "ac270c93",
   "metadata": {},
   "outputs": [],
   "source": [
    "closerlookunitby10graph=voulumeoverPriceUnit10[30:].plot(kind=\"bar\")"
   ]
  },
  {
   "cell_type": "code",
   "execution_count": null,
   "id": "a500c683",
   "metadata": {},
   "outputs": [],
   "source": [
    "volumeOverpricelabelsbyUnit10=pd.cut(volumefeedMaxperiod['Close'],bins=byunit10)"
   ]
  },
  {
   "cell_type": "code",
   "execution_count": null,
   "id": "40848349",
   "metadata": {},
   "outputs": [],
   "source": [
    "#looking closer\n"
   ]
  },
  {
   "cell_type": "code",
   "execution_count": null,
   "id": "20d869cf",
   "metadata": {
    "scrolled": false
   },
   "outputs": [],
   "source": [
    "df2022=spy.history(start='2022-01-01',end='2022-12-30', rounding=True) # note here rounding =true to give to cents\n",
    "df2022"
   ]
  },
  {
   "cell_type": "code",
   "execution_count": null,
   "id": "5a999dfe",
   "metadata": {},
   "outputs": [],
   "source": [
    "profileMaxPeriod=ProfileReport(FetchedSpy,title=\"MaxPeriodReport\")\n",
    "profileMaxPeriod"
   ]
  },
  {
   "cell_type": "code",
   "execution_count": null,
   "id": "0b68a0dc",
   "metadata": {},
   "outputs": [],
   "source": [
    "import matplotlib.pyplot as plt"
   ]
  },
  {
   "cell_type": "code",
   "execution_count": null,
   "id": "df9cc288",
   "metadata": {
    "scrolled": false
   },
   "outputs": [],
   "source": [
    "\n",
    "plt.figure(figsize=(10,6))\n",
    "performance=plt.plot(FetchedSpy['Close'])\n",
    "plt.grid()\n",
    "plt.show()"
   ]
  },
  {
   "cell_type": "code",
   "execution_count": null,
   "id": "93ab9ea9",
   "metadata": {},
   "outputs": [],
   "source": [
    "def givemeachart(input,start,end): # is this the dependency not within the function?# notice need to put diff quotation on it\n",
    "    ticker=yf.Ticker(input)\n",
    "    Fetched=ticker.history(start=start,end=end)\n",
    "    plt.figure(figsize=(10,6))\n",
    "    performance=plt.plot(Fetched['Close'])\n",
    "    plt.grid()\n",
    "    plt.show()\n",
    "# looking for the documentary to define the functions"
   ]
  },
  {
   "cell_type": "code",
   "execution_count": null,
   "id": "1cbfc7ad",
   "metadata": {
    "scrolled": true
   },
   "outputs": [],
   "source": [
    "graph2022=givemeachart(\"de\",'2022-01-01','2022-12-30')"
   ]
  },
  {
   "cell_type": "code",
   "execution_count": null,
   "id": "b6d7bf96",
   "metadata": {
    "scrolled": true
   },
   "outputs": [],
   "source": [
    "graphTqqq=givemeachart(\"TQQQ\",'2022-01-01','2022-12-30')"
   ]
  },
  {
   "cell_type": "code",
   "execution_count": null,
   "id": "58a71dc8",
   "metadata": {},
   "outputs": [],
   "source": [
    "Bitcoin=givemeachart('BTC-USD','2022-01-01','2022-12-30')"
   ]
  },
  {
   "cell_type": "code",
   "execution_count": null,
   "id": "501e12e9",
   "metadata": {},
   "outputs": [],
   "source": [
    "#faster way to do things\n",
    "# from pandas_datareader import data as pdr\n",
    "\n",
    "# import yfinance as yf\n",
    "# yf.pdr_override() # <== that's all it takes :-)\n",
    "\n",
    "# # download dataframe\n",
    "# data = pdr.get_data_yahoo(\"SPY\", start=\"2017-01-01\", end=\"2017-04-30\")"
   ]
  },
  {
   "cell_type": "code",
   "execution_count": null,
   "id": "ff67b00c",
   "metadata": {},
   "outputs": [],
   "source": [
    "# note we can request the data from yahoo finace by per minutes\n",
    "qqq=yf.Ticker('QQQ')\n",
    "df=qqq.history(period='max',actions=False,rounding=True,interval='15m')\n",
    "df"
   ]
  },
  {
   "cell_type": "code",
   "execution_count": null,
   "id": "548a2ae5",
   "metadata": {
    "scrolled": true
   },
   "outputs": [],
   "source": [
    "df15min=qqq.history(period='60d',actions=False,rounding=True,interval='15m',prepost=False)\n",
    "df15min"
   ]
  },
  {
   "cell_type": "code",
   "execution_count": null,
   "id": "a6d7b8fd",
   "metadata": {},
   "outputs": [],
   "source": [
    "df15min=qqq.history(period='60d',actions=False,rounding=True,interval='15m',prepost=False,start=\"2022-12-01\",end='2022-01-01')\n",
    "df15min"
   ]
  },
  {
   "cell_type": "code",
   "execution_count": null,
   "id": "289bc573",
   "metadata": {},
   "outputs": [],
   "source": [
    "df15min=qqq.history(period='60d',actions=False,rounding=True,interval='15m',prepost=False)\n",
    "df15min"
   ]
  },
  {
   "cell_type": "code",
   "execution_count": null,
   "id": "cb9930d4",
   "metadata": {
    "scrolled": true
   },
   "outputs": [],
   "source": [
    "df15min.info()"
   ]
  },
  {
   "cell_type": "code",
   "execution_count": null,
   "id": "8e2ad178",
   "metadata": {},
   "outputs": [],
   "source": [
    "# note it give the index loop through time"
   ]
  },
  {
   "cell_type": "code",
   "execution_count": null,
   "id": "658a17ff",
   "metadata": {},
   "outputs": [],
   "source": [
    "#discover it is a \n",
    "type(df15min.copy().reset_index()['Datetime'][0])"
   ]
  },
  {
   "cell_type": "code",
   "execution_count": null,
   "id": "720ada97",
   "metadata": {},
   "outputs": [],
   "source": [
    "4\n",
    "# stack overflow\n",
    "\n",
    "# First, make sure your TIMESTAMP column is a datetime instead of a string (e.g. df['TIMESTAMP'] = pd.to_datetime(df.TIMESTAMP)).\n",
    "\n",
    "# Next, use this column as the index of the dataframe. To make this permanent, df.set_index('TIMESTAMP, inplace=True)`.\n",
    "\n",
    "# Now you can resample for any given frequency (e.g. 30min) and use different methods of aggregation such as sum, mean (the default), a lambda function, etc).\n",
    "\n",
    "# Optionally, you can add .fillna(0) to replace the NaNs with zeros."
   ]
  },
  {
   "cell_type": "code",
   "execution_count": null,
   "id": "64c7bd24",
   "metadata": {},
   "outputs": [],
   "source": [
    "ploTSeries=df15min['Close']\n",
    "ploTSeries"
   ]
  },
  {
   "cell_type": "code",
   "execution_count": null,
   "id": "04169106",
   "metadata": {
    "scrolled": true
   },
   "outputs": [],
   "source": [
    "plt.figure(figsize=(8,5))\n",
    "ploTSeries.plot(title='QQQ15min')"
   ]
  },
  {
   "cell_type": "code",
   "execution_count": null,
   "id": "83d8fe7a",
   "metadata": {
    "scrolled": true
   },
   "outputs": [],
   "source": [
    "YMDformatSPYadj"
   ]
  },
  {
   "cell_type": "code",
   "execution_count": null,
   "id": "fea6be0b",
   "metadata": {},
   "outputs": [],
   "source": [
    "howmanydayfromtoday=(np.arange(0,len(YMDformatSPYadj))+1).tolist()\n",
    "howmanydayfromtoday=howmanydayfromtoday[::-1]\n",
    "howmanydayfromtoday# no we can construct it for the day we wanna"
   ]
  },
  {
   "cell_type": "code",
   "execution_count": null,
   "id": "3a6500f0",
   "metadata": {
    "scrolled": false
   },
   "outputs": [],
   "source": [
    "YMDformatSPYadj['Retriveday']=howmanydayfromtoday\n",
    "Yeartodayframe=YMDformatSPYadj.sort_values(by='Retriveday',ascending=True)\n",
    "Yeartodayframe"
   ]
  },
  {
   "cell_type": "code",
   "execution_count": null,
   "id": "e48ce0c2",
   "metadata": {},
   "outputs": [],
   "source": [
    "resetdf=YMDformatSPYadj.reset_index()\n",
    "resetdf"
   ]
  },
  {
   "cell_type": "code",
   "execution_count": null,
   "id": "1176efd4",
   "metadata": {},
   "outputs": [],
   "source": [
    "spy=yf.Ticker('SPY')\n",
    "type(spy)"
   ]
  },
  {
   "cell_type": "code",
   "execution_count": null,
   "id": "4e795ad2",
   "metadata": {},
   "outputs": [],
   "source": [
    "time in df.reset_index()['Date'] if "
   ]
  },
  {
   "cell_type": "code",
   "execution_count": null,
   "id": "6a27982e",
   "metadata": {},
   "outputs": [],
   "source": [
    "finalize15min=[]\n",
    "for i,day in enumerate(Yeartodayframe.reset_index()['Date'],start=1):\n",
    "#          print(i,day)\n",
    "    if (i%60==0 & i>=59):\n",
    "        start=resetdf.iloc[i-59,0].strftime(\"%Y-%m-%d\")\n",
    "        end=resetdf.iloc[i,0].strftime(\"%Y-%m-%d\")\n",
    "    df=spy.history(start=start,end=end,actions=False,rounding=True,interval='15m',prepost=False)\n",
    "df\n",
    "        \n",
    "\n",
    "\n",
    "        \n",
    "        \n",
    "\n",
    "\n",
    "# df15mins=spy.history(start='2022-10-30',end='2022-11-30',actions=False,rounding=True,interval='15m',prepost=False)\n",
    "# df15mins"
   ]
  },
  {
   "cell_type": "code",
   "execution_count": null,
   "id": "e7c4836c",
   "metadata": {},
   "outputs": [],
   "source": [
    "df15mins=qqq.history(period=\"90d\",actions=False,rounding=True,interval='15m',prepost=False)"
   ]
  },
  {
   "cell_type": "code",
   "execution_count": null,
   "id": "e33304be",
   "metadata": {},
   "outputs": [],
   "source": [
    "current_date=datetime.now()\n",
    "current_date"
   ]
  },
  {
   "cell_type": "code",
   "execution_count": null,
   "id": "7b39a0be",
   "metadata": {
    "scrolled": true
   },
   "outputs": [],
   "source": [
    "df15mins.index.strftime(\"%Y-%m-%d\")[0]"
   ]
  },
  {
   "cell_type": "code",
   "execution_count": null,
   "id": "d7b06cf3",
   "metadata": {},
   "outputs": [],
   "source": []
  },
  {
   "cell_type": "code",
   "execution_count": null,
   "id": "221f25b0",
   "metadata": {},
   "outputs": [],
   "source": [
    "# lower level data for deeper loop, can be start data=x x from a range listed"
   ]
  },
  {
   "cell_type": "markdown",
   "id": "11eec1ca",
   "metadata": {},
   "source": [
    "# Option Section"
   ]
  },
  {
   "cell_type": "code",
   "execution_count": null,
   "id": "c4ea748e",
   "metadata": {
    "scrolled": false
   },
   "outputs": [],
   "source": [
    "Experisionlist=spy.options\n",
    "Experisionlist"
   ]
  },
  {
   "cell_type": "code",
   "execution_count": null,
   "id": "72eb257c",
   "metadata": {},
   "outputs": [],
   "source": [
    "Experisionlist[0]"
   ]
  },
  {
   "cell_type": "code",
   "execution_count": null,
   "id": "786df5f8",
   "metadata": {},
   "outputs": [],
   "source": [
    "puts=options.puts\n",
    "puts"
   ]
  },
  {
   "cell_type": "code",
   "execution_count": null,
   "id": "e73f38d9",
   "metadata": {},
   "outputs": [],
   "source": [
    "options.calls.info()"
   ]
  },
  {
   "cell_type": "code",
   "execution_count": null,
   "id": "2653a834",
   "metadata": {
    "scrolled": true
   },
   "outputs": [],
   "source": [
    "options.puts.info()"
   ]
  },
  {
   "cell_type": "code",
   "execution_count": null,
   "id": "177e1ef5",
   "metadata": {},
   "outputs": [],
   "source": []
  },
  {
   "cell_type": "code",
   "execution_count": null,
   "id": "4a235690",
   "metadata": {},
   "outputs": [],
   "source": [
    "\n",
    "for index,price in enumerate(c):\n",
    "    if ((price%10==0) & (price>=10)):\n",
    "        labelsBY5.append(f\"less than {price}\")\n",
    "labelsBY5\n",
    "    \n",
    "        \n",
    "           \n",
    "\n",
    "\n",
    "            \n",
    "        "
   ]
  },
  {
   "cell_type": "code",
   "execution_count": null,
   "id": "b31490ff",
   "metadata": {},
   "outputs": [],
   "source": []
  }
 ],
 "metadata": {
  "kernelspec": {
   "display_name": "Python 3 (ipykernel)",
   "language": "python",
   "name": "python3"
  },
  "language_info": {
   "codemirror_mode": {
    "name": "ipython",
    "version": 3
   },
   "file_extension": ".py",
   "mimetype": "text/x-python",
   "name": "python",
   "nbconvert_exporter": "python",
   "pygments_lexer": "ipython3",
   "version": "3.9.12"
  }
 },
 "nbformat": 4,
 "nbformat_minor": 5
}
