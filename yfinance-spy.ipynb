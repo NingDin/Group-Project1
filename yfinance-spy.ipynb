{
 "cells": [
  {
   "cell_type": "code",
   "execution_count": null,
   "id": "7312f41e",
   "metadata": {},
   "outputs": [],
   "source": [
    "import yfinance as yf\n",
    "import pandas as pd\n",
    "# pip install yfinance\n",
    "from pprint import pprint\n",
    "from pandas_profiling import ProfileReport\n",
    "import numpy as np\n",
    "import scipy.stats as st\n",
    "import plotly.graph_objects as go # for candle chart # next round future\n",
    "import matplotlib.pyplot as plt\n",
    "from datetime import datetime # convert timestamp and revese to string\n",
    "%matplotlib inline\n",
    "import quantstats as qs\n",
    "import pandas_ta as ta\n",
    "import math\n",
    "import scipy.stats as st\n",
    "%matplotlib notebook\n"
   ]
  },
  {
   "cell_type": "markdown",
   "id": "50dbfd61",
   "metadata": {},
   "source": [
    "# Down Load the SPY Data Frame"
   ]
  },
  {
   "cell_type": "code",
   "execution_count": null,
   "id": "b565d317",
   "metadata": {
    "scrolled": false
   },
   "outputs": [],
   "source": [
    "# While closing price merely refers to the cost of shares at the end of the day, \n",
    "#the adjusted closing price considers other factors like dividends, stock splits,\n",
    "#and new stock offerings. Since the adjusted closing price begins where the closing price ends,\n",
    "#it can be called a more accurate measure of stocks' value.\n",
    "SPYadj=yf.download(\"SPY\")\n",
    "SPYadj"
   ]
  },
  {
   "cell_type": "markdown",
   "id": "be1f573e",
   "metadata": {},
   "source": [
    "# Time Handler function()1"
   ]
  },
  {
   "cell_type": "code",
   "execution_count": null,
   "id": "2712e82b",
   "metadata": {},
   "outputs": [],
   "source": [
    "# from datetime import datetime, change time stap to str\n",
    "def dftimeStaptoString(df):\n",
    "    df.index.strftime(\"%Y-%m-%d\")\n",
    "    return df"
   ]
  },
  {
   "cell_type": "markdown",
   "id": "776ed52b",
   "metadata": {},
   "source": [
    "# Time Handler function()2"
   ]
  },
  {
   "cell_type": "code",
   "execution_count": null,
   "id": "8061e67e",
   "metadata": {},
   "outputs": [],
   "source": [
    "# cut the time frame/period for study needs\n",
    "def timeHandlerFC(df):\n",
    "    df=df.assign(year=df.index.year, month=df.index.month,day=df.index.day)\n",
    "    return df"
   ]
  },
  {
   "cell_type": "markdown",
   "id": "32e17a5c",
   "metadata": {},
   "source": [
    "# DataFrame Time Slicer"
   ]
  },
  {
   "cell_type": "code",
   "execution_count": null,
   "id": "2aa1305a",
   "metadata": {},
   "outputs": [],
   "source": [
    "# study the index for and datetime libaray\n",
    "def dataFrameYrselectionFC(df,time):\n",
    "    df=df.loc[df.index>=time]\n",
    "    return df"
   ]
  },
  {
   "cell_type": "code",
   "execution_count": null,
   "id": "ba5ba5ab",
   "metadata": {},
   "outputs": [],
   "source": [
    "SpyTrimmed2020=SPYadj.copy()\n",
    "SpyTrimmed2020=dataFrameYrselectionFC(df=SpyTrimmed2020,time='2020-01-01')\n",
    "SpyTrimmed2020\n",
    "#perfect just like that, now we can manupulate any time we wanna with lots angels"
   ]
  },
  {
   "cell_type": "markdown",
   "id": "7b9c47e7",
   "metadata": {},
   "source": [
    "# Build VolumeOverPriceTool"
   ]
  },
  {
   "cell_type": "code",
   "execution_count": null,
   "id": "d45275c8",
   "metadata": {},
   "outputs": [],
   "source": [
    "# df:dataframe from yfinance\n",
    "#x price interval for underlying price\n",
    "#n slicer where interval start\n",
    "#m slicer where interval end\n",
    "# it build analysis base on close price and sum of the history vloume over price\n",
    "# seek to find the signficance of price that interpreted by volume\n",
    "def volumeonPriceintervalFC(df,x,n,m):\n",
    "    binn=np.arange(0,480,x).tolist()\n",
    "    result=pd.cut(df['Close'],bins=binn)\n",
    "    df['Range']=result\n",
    "    fm=df.groupby(['Range']).sum()['Volume'][n:m]  \n",
    "    gp=fm.plot(kind='bar')\n",
    "    return gp,fm\n",
    "    \n",
    "    "
   ]
  },
  {
   "cell_type": "markdown",
   "id": "19a9eb53",
   "metadata": {},
   "source": [
    "# Day counts up\n",
    "   "
   ]
  },
  {
   "cell_type": "code",
   "execution_count": null,
   "id": "26d8b5eb",
   "metadata": {},
   "outputs": [],
   "source": [
    "# we can consider add display to make it side by side\n",
    "def consecutiveupdistributionFC(df):\n",
    "    L=df['Adj Close'].tolist()\n",
    "    dayupdistribution=[]\n",
    "    adjcloseprior=L[0]\n",
    "    count=0\n",
    "    for x in range(len(L)-1):\n",
    "        if L[x+1]>L[x]:\n",
    "            count=count+1\n",
    "        else:\n",
    "            dayupdistribution.append(count)\n",
    "            count=0\n",
    "    dayupdistribution\n",
    "    daycountdistributiondf=pd.DataFrame({\"daycountoccurance\":dayupdistribution})\n",
    "    daycountdistributiondf[\"Occurance\"]=0\n",
    "    consecutiveupdstribution=daycountdistributiondf.groupby(['daycountoccurance']).count()\n",
    "    consecutiveupdstribution\n",
    "    nodownday=consecutiveupdstribution.copy().drop(0)\n",
    "    nodownday['%ofwholeset']=round((nodownday['Occurance']/nodownday['Occurance'].sum())*100,2)\n",
    "    gpp=nodownday['Occurance'].plot(kind='bar')\n",
    "    gp=consecutiveupdstribution.plot(kind='bar')\n",
    "    return gpp,nodownday,consecutiveupdstribution,gp\n",
    "\n",
    "\n",
    "##need to add the format string\n",
    "    "
   ]
  },
  {
   "cell_type": "markdown",
   "id": "911285ec",
   "metadata": {},
   "source": [
    "# Caculate rate of changes"
   ]
  },
  {
   "cell_type": "code",
   "execution_count": null,
   "id": "2e876364",
   "metadata": {},
   "outputs": [],
   "source": [
    "# notice a good way to understand how it work is to write a function.\n"
   ]
  },
  {
   "cell_type": "markdown",
   "id": "e98329f2",
   "metadata": {},
   "source": [
    "# Caculate Return and Return distribution"
   ]
  },
  {
   "cell_type": "code",
   "execution_count": null,
   "id": "2673a490",
   "metadata": {},
   "outputs": [],
   "source": [
    "# have math dependency due to math.celi()\n",
    "#Kurtosis -peak and tail of the return distribution; normal distribution have Kurtosis near 0\n",
    "#imperical data may be more peaky with fater tail\n",
    "#Skewness # negative side tail is fatter than postive side; extrem negative movement more likely\n",
    "def Caculate_ReturnFC(df):\n",
    "    df['return%']=((df['Close']-df['Open'])/df['Open']*100).round(2)\n",
    "    dfraw=df['return%'].copy()\n",
    "    x=df['return%'].max()\n",
    "    y=df['return%'].min()\n",
    "    describe=df['return%'].describe()\n",
    "    skewness=st.skew(df['return%'].dropna())\n",
    "    kurtosiss=st.kurtosis(df['return%'].dropna())\n",
    "    # notcie shapiro not effective if n>5000\n",
    "    #shapiro is a fair estimate on probability wise, still not a gurantee judgement\n",
    "    # will sample 5000 a good way to go?\n",
    "    p_value=st.shapiro(df['return%'].dropna().sample(5000))[1]\n",
    "    # in scipy it return excess kurtosis as defualt\n",
    "    print(f\"daily return excess kurtosis(after -3 from normal) at {kurtosiss}\")\n",
    "    print(f\"daily return skewness at {skewness}\")\n",
    "    print(f\"daily return p_value at {p_value}\")\n",
    "    if p_value<=0.05:\n",
    "        print(\"Null hypothesis of normality is rejected.\")\n",
    "    else:\n",
    "        print(\"Null hypothesis of normality is accepted.\")\n",
    "    L=np.arange(y,math.ceil(x),1)\n",
    "    df['daily_%return_range']=pd.cut(df['return%'],bins=L)\n",
    "    gp=df.groupby(['daily_%return_range']).count()['Close'].plot(kind='bar')\n",
    "    df['return%']=(df['return%']).astype(str)+'%'\n",
    "    df=df.drop(columns='daily_%return_range')\n",
    "    \n",
    "    # {\"stdv\":[1,2,3],\"normal:[]\"}\n",
    "\n",
    "    dfraww=dfraw.to_frame()\n",
    "    stdd=d.std()\n",
    "    meann=d.mean()\n",
    "    #normal distribution prama\n",
    "    y=[0.6820,0.9540,0.99]\n",
    "    Distr=[]\n",
    "    for x in y:\n",
    "        m=x*len(SPYadj)\n",
    "        Distr.append(m)\n",
    "    Distr\n",
    "\n",
    "    upper1std=meann+stdd\n",
    "    lower1std=meann-stdd\n",
    "    upper2std=meann+(2*stdd)\n",
    "    lower2std=meann-(2*stdd)\n",
    "    upper3std=meann+(3*stdd)\n",
    "    lower3std=meann-(3*stdd)\n",
    "    Distrbin=[f\"{round(lower1std[0],4)} ~{round(upper1std[0],4)}\",\\\n",
    "              f\"{round(lower2std[0],4)}~{round(upper2std[0],4)}\",\\\n",
    "              f\"{round(lower3std[0],4)}~{round(upper3std[0],4)}\"]\n",
    "    a1=len(d.loc[(dfraww['return%']>lower2std[0] )& (dfraww['return%']<upper1std[0])])\n",
    "    a2=len(d.loc[(dfraww['return%']>lower2std [0])& (dfraww['return%']<upper2std[0])])\n",
    "    a3=len(d.loc[(dfraww['return%']>=lower2std[0] )& (dfraww['return%']<=upper3std[0])])\n",
    "    actual=[]\n",
    "    actual.append(a1)\n",
    "    actual.append(a2)\n",
    "    actual.append(a3)\n",
    "    actual\n",
    "    normalFreq=pd.DataFrame({'Distribin':Distrbin})\n",
    "    normalFreq['Empirical']=actual\n",
    "    normalFreq['Normal']=Distr\n",
    "    normalFreq\n",
    "    \n",
    "    \n",
    "\n",
    "    return df,gp,describe,normalFreq,dfraw\n",
    "#we can unpack a4 for study \n",
    "# how can we create a normal distribution one to fit our data\n"
   ]
  },
  {
   "cell_type": "code",
   "execution_count": null,
   "id": "ce35da02",
   "metadata": {},
   "outputs": [],
   "source": [
    "dfdraw=SPYadj['return%']\n",
    "dfdraw.to_frame()"
   ]
  },
  {
   "cell_type": "code",
   "execution_count": null,
   "id": "3dbbef42",
   "metadata": {
    "scrolled": false
   },
   "outputs": [],
   "source": [
    "# sknewness above 0 signal non-normality\n",
    "#normal distribution tendency kurtosis at 3; while follow ticker indicate Leptokurtic, excess Kurtosis; think fat tail\n",
    "a1,a2,a3,a4,a5=Caculate_ReturnFC(SPYadj)"
   ]
  },
  {
   "cell_type": "code",
   "execution_count": null,
   "id": "47cbb934",
   "metadata": {},
   "outputs": [],
   "source": [
    "a4"
   ]
  },
  {
   "cell_type": "code",
   "execution_count": null,
   "id": "c1dbcd4d",
   "metadata": {},
   "outputs": [],
   "source": [
    "d"
   ]
  },
  {
   "cell_type": "code",
   "execution_count": null,
   "id": "a154e32a",
   "metadata": {},
   "outputs": [],
   "source": [
    "len(SPYadj)"
   ]
  },
  {
   "cell_type": "code",
   "execution_count": null,
   "id": "9a18d4c9",
   "metadata": {},
   "outputs": [],
   "source": [
    "(d>lower1std).count()"
   ]
  },
  {
   "cell_type": "code",
   "execution_count": null,
   "id": "34bbf5f9",
   "metadata": {},
   "outputs": [],
   "source": [
    "\n",
    "d"
   ]
  },
  {
   "cell_type": "code",
   "execution_count": null,
   "id": "94957046",
   "metadata": {},
   "outputs": [],
   "source": [
    "lower1std"
   ]
  },
  {
   "cell_type": "code",
   "execution_count": null,
   "id": "28197a12",
   "metadata": {},
   "outputs": [],
   "source": [
    "\n",
    "d.loc[(d['return%']>lower1std)]"
   ]
  },
  {
   "cell_type": "code",
   "execution_count": null,
   "id": "45f4ac4b",
   "metadata": {},
   "outputs": [],
   "source": [
    "# {\"stdv\":[1,2,3],\"normal:[]\"}\n",
    "\n",
    "# d.to_frame()\n",
    "stdd=d.std()\n",
    "meann=d.mean()\n",
    "# 1std:{'1sigmaU':meann+stdd,'1sigmaL':meann-sttd}\n",
    "y=[0.6820,0.9540,0.99]\n",
    "Distr=[]\n",
    "\n",
    "for x in y:\n",
    "    m=x*len(SPYadj)\n",
    "    Distr.append(m)\n",
    "Distr\n",
    "\n",
    "upper1std=meann+stdd\n",
    "lower1std=meann-stdd\n",
    "upper2std=meann+(2*stdd)\n",
    "lower2std=meann-(2*stdd)\n",
    "upper3std=meann+(3*stdd)\n",
    "lower3std=meann-(3*stdd)\n",
    "Distrbin=[f\"{round(lower1std[0],4)} ~{round(upper1std[0],4)}\",\\\n",
    "          f\"{round(lower2std[0],4)}~{round(upper2std[0],4)}\",\\\n",
    "          f\"{round(lower3std[0],4)}~{round(upper3std[0],4)}\"]\n",
    "a1=len(d.loc[(d['return%']>lower2std[0] )& (d['return%']<upper1std[0])])\n",
    "a2=len(d.loc[(d['return%']>lower2std [0])& (d['return%']<upper2std[0])])\n",
    "a3=len(d.loc[(d['return%']>=lower2std[0] )& (d['return%']<=upper3std[0])])\n",
    "actual=[]\n",
    "actual.append(a1)\n",
    "actual.append(a2)\n",
    "actual.append(a3)\n",
    "actual\n",
    "normalFreq=pd.DataFrame({'Distribin':Distrbin})\n",
    "normalFreq['Empirical']=actual\n",
    "normalFreq['Normal']=Distr\n",
    "normalFreq"
   ]
  },
  {
   "cell_type": "code",
   "execution_count": null,
   "id": "dbea483a",
   "metadata": {},
   "outputs": [],
   "source": [
    "actual"
   ]
  },
  {
   "cell_type": "code",
   "execution_count": null,
   "id": "3d381e22",
   "metadata": {},
   "outputs": [],
   "source": [
    "pd.DataFrame({1std:{'1sigmaU':meann+stdd,'1sigmaL':meann-sttd}})"
   ]
  },
  {
   "cell_type": "markdown",
   "id": "f20e0614",
   "metadata": {},
   "source": [
    "# Calculate ATR- Historical vol"
   ]
  },
  {
   "cell_type": "code",
   "execution_count": null,
   "id": "b065befb",
   "metadata": {},
   "outputs": [],
   "source": [
    "# beautiful set up, it allow u to scope atr for realiize vol by anchor at today's date\n",
    "def anchoredATRCalFC(df):\n",
    "    df['TrueRange']=df['High']-df['Low']\n",
    "    atrSpy=df.copy().ta.reverse.reset_index()\n",
    "    rolling2D=[((atrSpy['TrueRange'][x]+atrSpy['TrueRange'][x+1])/2)/(atrSpy['Open'][x])for x in range(len(SPYadj)-1)]\n",
    "    rolling2Draw=pd.Series(rolling2D)\n",
    "    atrSpy['rolling2D']=(rolling2Draw*100).round(5).astype(str)+'%'\n",
    "    \n",
    "  #find out the atr change overtime from anchored date\n",
    "    a={\"years\":[\"5days\",\"20days\",\"60days\",\"1year\",\"3year\",\"5years\",\"10years\",\"20years\",\"50years\"]}\n",
    "    b={\"Days\":[5,20,60,250,750,1250,2500,5000,12500]}\n",
    "    c={\"AvgDailyATRbaseonPeriod\":[]}\n",
    "    for x in b['Days']:\n",
    "        #60period we need to add one digit; notice it start from 0 and exlude the last one on slicer,balance out\n",
    "        periodmean=str(round((rolling2Draw[:x+1].mean()*100),3))+'%'\n",
    "        c['AvgDailyATRbaseonPeriod'].append(periodmean)\n",
    "    anchoredATR=pd.DataFrame({'years':a['years'],'Days':b['Days'],\\\n",
    "                              'AvgDailyATRbaseonPeriod':c['AvgDailyATRbaseonPeriod']}).T\n",
    "    return atrSpy,rolling2Draw,anchoredATR"
   ]
  },
  {
   "cell_type": "code",
   "execution_count": null,
   "id": "e5a351af",
   "metadata": {
    "scrolled": true
   },
   "outputs": [],
   "source": [
    "aatr,batr,catr=anchoredATRCalFC(SPYadj)\n",
    "aatr"
   ]
  },
  {
   "cell_type": "code",
   "execution_count": null,
   "id": "cbb6ad27",
   "metadata": {
    "scrolled": false
   },
   "outputs": [],
   "source": [
    "catr"
   ]
  },
  {
   "cell_type": "markdown",
   "id": "a0128d98",
   "metadata": {},
   "source": [
    "# Caculate Log Return"
   ]
  },
  {
   "cell_type": "markdown",
   "id": "5ae003f5",
   "metadata": {},
   "source": [
    "# Build Graphic Generator"
   ]
  },
  {
   "cell_type": "code",
   "execution_count": null,
   "id": "dac59856",
   "metadata": {},
   "outputs": [],
   "source": [
    "# note input has to be us stock ticker a commpany wiht \"\"; eg input=\"SPY\"\n",
    "# start/end date has to be \"YYYY-MM-DD\" format\n",
    "def givemeachart(input,start,end): # is this the dependency not within the function?# notice need to put diff quotation on it\n",
    "    ticker=yf.Ticker(input)\n",
    "    Fetched=ticker.history(start=start,end=end)\n",
    "    plt.figure(figsize=(10,6))\n",
    "    performance=plt.plot(Fetched['Close'])\n",
    "    plt.grid()\n",
    "    plt.show()\n",
    "# looking for the documentary to define the functions"
   ]
  },
  {
   "cell_type": "code",
   "execution_count": null,
   "id": "68706b76",
   "metadata": {},
   "outputs": [],
   "source": [
    "SPYadj['return']=((SPYadj['Close']-SPYadj['Open'])/SPYadj['Open']*100).round(2).astype(str)+'%'\n",
    "spyDaily=SPYadj.reset_index()\n",
    "returndistribution=spyDaily.groupby('return').count().iloc[:,0]\n",
    "returndistribution.plot(kind='bar')\n",
    "\n",
    "# set_index(SPYadj['return']).value_counts()\n"
   ]
  },
  {
   "cell_type": "code",
   "execution_count": null,
   "id": "e70490e8",
   "metadata": {
    "scrolled": false
   },
   "outputs": [],
   "source": [
    "SPYadj.info()"
   ]
  },
  {
   "cell_type": "code",
   "execution_count": null,
   "id": "c95d80a9",
   "metadata": {
    "scrolled": false
   },
   "outputs": [],
   "source": [
    "#None Null data, good quality \n",
    "SPYadj.dropna()"
   ]
  },
  {
   "cell_type": "code",
   "execution_count": null,
   "id": "c157c942",
   "metadata": {},
   "outputs": [],
   "source": [
    "# since it is binary event the distribution itself is selfexplantary; potential catched a meanreversal strategy \n",
    "# we can use value_counts(normialize=True) ---to give the % by apperance\n",
    "a,b,c,d=consecutiveupdistributionFC(df=SPYadj)\n"
   ]
  },
  {
   "cell_type": "code",
   "execution_count": null,
   "id": "b44b7615",
   "metadata": {},
   "outputs": [],
   "source": [
    "adjcloseprior=SPYadj['Adj Close'][0]\n",
    "adjcloseprior"
   ]
  },
  {
   "cell_type": "code",
   "execution_count": null,
   "id": "0dc5d98c",
   "metadata": {},
   "outputs": [],
   "source": [
    "(SPYadj['Adj Close'][1:]).tolist()"
   ]
  },
  {
   "cell_type": "code",
   "execution_count": null,
   "id": "3305906c",
   "metadata": {
    "scrolled": false
   },
   "outputs": [],
   "source": [
    "# note start only configure the count start number of index, it always give out the full sets\n",
    "L=SPYadj['Adj Close'].tolist()\n",
    "dayupdistribution=[]\n",
    "adjcloseprior=L[0]\n",
    "count=0\n",
    "for x in range(len(L)-1):\n",
    "    if L[x+1]>L[x]:\n",
    "        count=count+1\n",
    "#         print(count)\n",
    "    else:\n",
    "        dayupdistribution.append(count)\n",
    "        count=0\n",
    "        \n",
    "dayupdistribution\n",
    "daycountdistributiondf=pd.DataFrame({\"daycountoccurance\":dayupdistribution})\n",
    "daycountdistributiondf[\"helperoll\"]=0\n",
    "consecutiveupdstribution=daycountdistributiondf.groupby(['daycountoccurance']).count()\n",
    "consecutiveupdstribution\n"
   ]
  },
  {
   "cell_type": "code",
   "execution_count": null,
   "id": "f3eccce6",
   "metadata": {},
   "outputs": [],
   "source": [
    "consecutiveupdstribution.plot(kind='bar')"
   ]
  },
  {
   "cell_type": "code",
   "execution_count": null,
   "id": "538c7e5f",
   "metadata": {
    "scrolled": true
   },
   "outputs": [],
   "source": [
    "sd=SPYadj.copy().ta.strategy('ALL',timed=True)"
   ]
  },
  {
   "cell_type": "code",
   "execution_count": null,
   "id": "043c6a8e",
   "metadata": {},
   "outputs": [],
   "source": [
    "sd"
   ]
  },
  {
   "cell_type": "markdown",
   "id": "6403e80b",
   "metadata": {},
   "source": [
    "# BollingerBand"
   ]
  },
  {
   "cell_type": "code",
   "execution_count": null,
   "id": "2c1d5d01",
   "metadata": {},
   "outputs": [],
   "source": [
    "def showBbandsFC(df):\n",
    "    a=df.ta.bbands(close='Adj Close',length=20,append=True)\n",
    "    b=df[['BBU_20_2.0','Adj Close','BBL_20_2.0']]\n",
    "    gp=b.plot()\n",
    "    return gp,df"
   ]
  },
  {
   "cell_type": "code",
   "execution_count": null,
   "id": "e58e8650",
   "metadata": {},
   "outputs": [],
   "source": [
    "showBbandsFC(df=SPYadj)"
   ]
  },
  {
   "cell_type": "code",
   "execution_count": null,
   "id": "d14ba61f",
   "metadata": {},
   "outputs": [],
   "source": [
    "f"
   ]
  },
  {
   "cell_type": "code",
   "execution_count": null,
   "id": "3a73436e",
   "metadata": {
    "scrolled": false
   },
   "outputs": [],
   "source": [
    "#https://www.vanguard.ca/en/advisor/products/products-group/etfs/VCN\n",
    "CADadj=yf.download(\"VCN\")\n",
    "CADadj"
   ]
  },
  {
   "cell_type": "code",
   "execution_count": null,
   "id": "918d276b",
   "metadata": {},
   "outputs": [],
   "source": [
    "CADadj=yf.download(\"FTSE\",period='40')\n",
    "CADadj"
   ]
  },
  {
   "cell_type": "markdown",
   "id": "25be6522",
   "metadata": {},
   "source": [
    "# US vs Rest of the Word?"
   ]
  },
  {
   "cell_type": "code",
   "execution_count": null,
   "id": "932a1dc4",
   "metadata": {},
   "outputs": [],
   "source": []
  },
  {
   "cell_type": "code",
   "execution_count": null,
   "id": "cfe8759d",
   "metadata": {},
   "outputs": [],
   "source": [
    "#https://etfdb.com/index/msci-all-country-world-index-ex-usa/\n",
    "restWord=yf.download(\"ACWX\")\n",
    "restWord"
   ]
  },
  {
   "cell_type": "markdown",
   "id": "4d8f9b78",
   "metadata": {},
   "source": [
    "## add FRED API ? https://fred.stlouisfed.org/docs/api/fred/   \\\n",
    "## add TA-LIB for bollinger bands?\n"
   ]
  },
  {
   "cell_type": "code",
   "execution_count": null,
   "id": "73ef55cf",
   "metadata": {},
   "outputs": [],
   "source": [
    "df1=pd.DataFrame()\n",
    "df1=df.ta.ticker('SPY',period='5y')  # note here we can even use ta module build on top on yfinace to have the ticker\n",
    "df1\n",
    "#but we would like to have the adj close so we use the download method"
   ]
  },
  {
   "cell_type": "code",
   "execution_count": null,
   "id": "a02468b1",
   "metadata": {},
   "outputs": [],
   "source": [
    "df1=pd.DataFrame()\n",
    "df1=df.ta.ticker('SPY',period='5y')  # note here we can even use ta module build on top on yfinace to have the ticker\n",
    "df1"
   ]
  },
  {
   "cell_type": "code",
   "execution_count": null,
   "id": "d1abd7c7",
   "metadata": {
    "scrolled": false
   },
   "outputs": [],
   "source": [
    "df=pd.DataFrame()\n",
    "df=pd.read_csv('SPYadj.csv')\n",
    "df.ta.log_return(cumulative=True,append=True)\n",
    "df # add the log return for the file"
   ]
  },
  {
   "cell_type": "code",
   "execution_count": null,
   "id": "d4a869de",
   "metadata": {},
   "outputs": [],
   "source": []
  },
  {
   "cell_type": "code",
   "execution_count": null,
   "id": "ce53abf8",
   "metadata": {
    "scrolled": true
   },
   "outputs": [],
   "source": [
    "strategy=df1.ta.categories\n",
    "strategy\n"
   ]
  },
  {
   "cell_type": "code",
   "execution_count": null,
   "id": "d038d16d",
   "metadata": {
    "scrolled": true
   },
   "outputs": [],
   "source": [
    "help(ta.volatility)"
   ]
  },
  {
   "cell_type": "code",
   "execution_count": null,
   "id": "9c6aff54",
   "metadata": {},
   "outputs": [],
   "source": [
    "pov=SPYadj.ta.pvol().plot()\n",
    "pov\n"
   ]
  },
  {
   "cell_type": "code",
   "execution_count": null,
   "id": "007ecee5",
   "metadata": {
    "scrolled": true
   },
   "outputs": [],
   "source": [
    "a=SPYadj.ta.bbands(close='Adj Close',length=20,append=True)\n",
    "SPYadj"
   ]
  },
  {
   "cell_type": "code",
   "execution_count": null,
   "id": "01c9654e",
   "metadata": {},
   "outputs": [],
   "source": [
    "a[[]]"
   ]
  },
  {
   "cell_type": "code",
   "execution_count": null,
   "id": "bec6414f",
   "metadata": {
    "scrolled": false
   },
   "outputs": [],
   "source": [
    "a[['BBU_20_2.0','BBL_20_2.0']].plot()"
   ]
  },
  {
   "cell_type": "code",
   "execution_count": null,
   "id": "b40f91a8",
   "metadata": {},
   "outputs": [],
   "source": [
    "help(qs.stats.conditional_value_at_risk) ## way u can use quanttats to learn concepts"
   ]
  },
  {
   "cell_type": "code",
   "execution_count": null,
   "id": "8b9e216c",
   "metadata": {},
   "outputs": [],
   "source": [
    "SPYadj.ta.tos_stdevall()"
   ]
  },
  {
   "cell_type": "code",
   "execution_count": null,
   "id": "78f13c81",
   "metadata": {},
   "outputs": [],
   "source": [
    "result = ta.variancelatility(SPYadj.close)"
   ]
  },
  {
   "cell_type": "code",
   "execution_count": null,
   "id": "c7bff0ab",
   "metadata": {},
   "outputs": [],
   "source": [
    "### need further study the way it is \n",
    "# potential option to overlay info ontop of it \n",
    "StudyProject=0\n",
    "myStrategyBundle=ta.Strategy(\n",
    "    name='StudyProject',\n",
    "    ta=[\n",
    "        {'kind':'donchian','lower_length':10,'upper_length':15},\n",
    "        {'kind':'sma','lenght':10},\n",
    "        \n",
    "        \n",
    "    ]\n",
    "\n",
    ")\n",
    "df.ta.strategy(StudyProject,length=15)"
   ]
  },
  {
   "cell_type": "code",
   "execution_count": null,
   "id": "fae1399a",
   "metadata": {},
   "outputs": [],
   "source": [
    "help(ta.bbands)"
   ]
  },
  {
   "cell_type": "code",
   "execution_count": null,
   "id": "384ac9a9",
   "metadata": {},
   "outputs": [],
   "source": [
    "strategy[7]"
   ]
  },
  {
   "cell_type": "code",
   "execution_count": null,
   "id": "2e753c49",
   "metadata": {},
   "outputs": [],
   "source": [
    "help(volatility)"
   ]
  },
  {
   "cell_type": "code",
   "execution_count": null,
   "id": "0547e75c",
   "metadata": {
    "scrolled": true
   },
   "outputs": [],
   "source": [
    "# have to reset the the index, note the document request to access date and price info\n",
    "bollinger=SPYadj.ta.volatility.() # set 20 days for swing trading"
   ]
  },
  {
   "cell_type": "code",
   "execution_count": null,
   "id": "5b606fd2",
   "metadata": {},
   "outputs": [],
   "source": [
    "dfVol=df1.copy().ta.strategy(\"volatility\")\n",
    "dfVol\n",
    "# need ta Dependency install to have it properly"
   ]
  },
  {
   "cell_type": "code",
   "execution_count": null,
   "id": "6f686fb4",
   "metadata": {},
   "outputs": [],
   "source": [
    "SPYadj.ta.strategy(\"All\") # NEED TO INSTALL TA LIB"
   ]
  },
  {
   "cell_type": "code",
   "execution_count": null,
   "id": "1bfc2907",
   "metadata": {},
   "outputs": [],
   "source": [
    "help(ta.yf)"
   ]
  },
  {
   "cell_type": "code",
   "execution_count": null,
   "id": "f453e44c",
   "metadata": {
    "scrolled": false
   },
   "outputs": [],
   "source": [
    "help(df.ta)"
   ]
  },
  {
   "cell_type": "code",
   "execution_count": null,
   "id": "9526bdea",
   "metadata": {
    "scrolled": false
   },
   "outputs": [],
   "source": [
    "help(df.ta.indicators())"
   ]
  },
  {
   "cell_type": "code",
   "execution_count": null,
   "id": "c6e74ca9",
   "metadata": {},
   "outputs": [],
   "source": [
    "help(ta.bbands)"
   ]
  },
  {
   "cell_type": "code",
   "execution_count": null,
   "id": "401df007",
   "metadata": {},
   "outputs": [],
   "source": [
    "help(ta.squeeze) # here can tell more detail about it "
   ]
  },
  {
   "cell_type": "code",
   "execution_count": null,
   "id": "18442467",
   "metadata": {},
   "outputs": [],
   "source": [
    "qs.extend_pandas() # this is required to pass quantstat to Jupyter"
   ]
  },
  {
   "cell_type": "code",
   "execution_count": null,
   "id": "750efd8f",
   "metadata": {
    "scrolled": true
   },
   "outputs": [],
   "source": [
    "spyqt=qs.utils.download_returns('SPY')\n",
    "spyqt"
   ]
  },
  {
   "cell_type": "code",
   "execution_count": null,
   "id": "dfd0f30f",
   "metadata": {},
   "outputs": [],
   "source": [
    "#Calculate Sharp\n",
    "qs.stats.sharpe(spyqt)"
   ]
  },
  {
   "cell_type": "code",
   "execution_count": null,
   "id": "f0a68c17",
   "metadata": {},
   "outputs": [],
   "source": [
    "spyqt.cagr()"
   ]
  },
  {
   "cell_type": "code",
   "execution_count": null,
   "id": "c6b5759c",
   "metadata": {
    "scrolled": false
   },
   "outputs": [],
   "source": [
    "spyqt.plot_drawdown()"
   ]
  },
  {
   "cell_type": "code",
   "execution_count": null,
   "id": "9df8ec74",
   "metadata": {},
   "outputs": [],
   "source": [
    "spyqt.plot_distribution()"
   ]
  },
  {
   "cell_type": "code",
   "execution_count": null,
   "id": "7b1105a4",
   "metadata": {},
   "outputs": [],
   "source": [
    "spyqt.plot_drawdowns_periods()"
   ]
  },
  {
   "cell_type": "code",
   "execution_count": null,
   "id": "11518d67",
   "metadata": {
    "scrolled": true
   },
   "outputs": [],
   "source": [
    "spyqt.monthly_returns()"
   ]
  },
  {
   "cell_type": "code",
   "execution_count": null,
   "id": "4510a135",
   "metadata": {
    "scrolled": true
   },
   "outputs": [],
   "source": [
    "spyqt.plot_monthly_heatmap()"
   ]
  },
  {
   "cell_type": "code",
   "execution_count": null,
   "id": "99689988",
   "metadata": {},
   "outputs": [],
   "source": []
  },
  {
   "cell_type": "code",
   "execution_count": null,
   "id": "1e10c809",
   "metadata": {},
   "outputs": [],
   "source": [
    "spyqt.max_drawdown()"
   ]
  },
  {
   "cell_type": "code",
   "execution_count": null,
   "id": "50c8eb7f",
   "metadata": {
    "scrolled": true
   },
   "outputs": [],
   "source": [
    "#qs.reports.html(spyqt,output='fileloaction/spyreport.html')\n",
    "qs.reports.plots(spyqt) # we can save as internet link format as well "
   ]
  },
  {
   "cell_type": "code",
   "execution_count": null,
   "id": "5d3b5169",
   "metadata": {
    "scrolled": false
   },
   "outputs": [],
   "source": [
    "spyqt.plot_earnings(start_balance=10000) # once qs pandas extend initiate all additional function rdy\n",
    "# (savefig='filelocation') --can save the graph for ppt"
   ]
  },
  {
   "cell_type": "code",
   "execution_count": null,
   "id": "a0aa3fb6",
   "metadata": {},
   "outputs": [],
   "source": [
    "tickers={\"SSO\":0.3,\"GOF\":0.2,\"BRW\":0.2,\"TLT\":0.3}\n",
    "profo=qs.utils.make_index(tickers)\n",
    "qs.reports.html(profo,'SPY',output=\"profo.html\")"
   ]
  },
  {
   "cell_type": "code",
   "execution_count": null,
   "id": "34e558e8",
   "metadata": {
    "scrolled": false
   },
   "outputs": [],
   "source": [
    "SPYadj.info()"
   ]
  },
  {
   "cell_type": "code",
   "execution_count": null,
   "id": "f562b940",
   "metadata": {
    "scrolled": false
   },
   "outputs": [],
   "source": [
    "SPYadj.dropna()"
   ]
  },
  {
   "cell_type": "code",
   "execution_count": null,
   "id": "783fa6da",
   "metadata": {
    "scrolled": false
   },
   "outputs": [],
   "source": [
    "# note checked the time of data is time-stamp; hence it will be way easier to convert UTC format\n",
    "SPYadj.index[0]"
   ]
  },
  {
   "cell_type": "code",
   "execution_count": null,
   "id": "8c8a9e27",
   "metadata": {
    "scrolled": true
   },
   "outputs": [],
   "source": [
    "SPYadj.assign(year=SPYadj.index.year, month=SPYadj.index.month,day=SPYadj.index.day)"
   ]
  },
  {
   "cell_type": "code",
   "execution_count": null,
   "id": "126b9276",
   "metadata": {
    "scrolled": true
   },
   "outputs": [],
   "source": [
    "SPYadj.reset_index()"
   ]
  },
  {
   "cell_type": "code",
   "execution_count": null,
   "id": "7fc80de3",
   "metadata": {},
   "outputs": [],
   "source": [
    "split(\"1993-01-29\",'-')"
   ]
  },
  {
   "cell_type": "code",
   "execution_count": null,
   "id": "1ca0fd17",
   "metadata": {},
   "outputs": [],
   "source": [
    "fig=go.Figure(data=[go.Candlestick(x=SPYadj['Date'],open=SPYadj['Open'],high=SPYadj['High'],low=SPYadj['Low'],\n",
    "                                  close=SPYadj['close'])\n",
    "                 "
   ]
  },
  {
   "cell_type": "code",
   "execution_count": null,
   "id": "112ebf83",
   "metadata": {},
   "outputs": [],
   "source": [
    "volumeonPriceintervalFC(df=SPYadj,x=1,n=380,m=400)"
   ]
  },
  {
   "cell_type": "code",
   "execution_count": null,
   "id": "d936d1a1",
   "metadata": {},
   "outputs": [],
   "source": [
    "var_spymaxperiod=np.var(SPYadj['Adj Close'])\n",
    "std_spymaxperiod=np.std(SPYadj['Adj Close'])\n",
    "mean_spymaxperiod=np.mean(SPYadj['Adj Close'])"
   ]
  },
  {
   "cell_type": "code",
   "execution_count": null,
   "id": "346ff190",
   "metadata": {
    "scrolled": true
   },
   "outputs": [],
   "source": [
    "print(f\"Roughly 68% among {mean_spymaxperiod-std_spymaxperiod*1} and {mean_spymaxperiod+std_spymaxperiod*1}\")\n",
    "print(f\"Roughly 95% among {(mean_spymaxperiod-std_spymaxperiod*2)} and {mean_spymaxperiod+std_spymaxperiod*2}\")\n",
    "print(f\"Roughly 99.7% among {mean_spymaxperiod-std_spymaxperiod*3} and {mean_spymaxperiod+std_spymaxperiod*3}\")"
   ]
  },
  {
   "cell_type": "code",
   "execution_count": null,
   "id": "b4bc7c82",
   "metadata": {
    "scrolled": true
   },
   "outputs": [],
   "source": [
    "print(f\"Roughly 68% among {mean_spymaxperiod-std_spymaxperiod*1} and {mean_spymaxperiod+std_spymaxperiod*1}\")\n",
    "print(f\"Roughly 95% among 0 and {mean_spymaxperiod+std_spymaxperiod*2}\")\n",
    "print(f\"Roughly 99.7% among 0 and {mean_spymaxperiod+std_spymaxperiod*3}\")"
   ]
  },
  {
   "cell_type": "code",
   "execution_count": null,
   "id": "990baf69",
   "metadata": {
    "scrolled": true
   },
   "outputs": [],
   "source": [
    "st.normaltest(SPYadj['Adj Close'].sample(1000))"
   ]
  },
  {
   "cell_type": "code",
   "execution_count": null,
   "id": "87e23586",
   "metadata": {},
   "outputs": [],
   "source": [
    "zSpyMaxperiod=st.zscore(SPYadj['Adj Close'])"
   ]
  },
  {
   "cell_type": "code",
   "execution_count": null,
   "id": "ddd24987",
   "metadata": {},
   "outputs": [],
   "source": [
    "spy=yf.Ticker('SPY')\n",
    "type(spy)"
   ]
  },
  {
   "cell_type": "code",
   "execution_count": null,
   "id": "24122303",
   "metadata": {
    "scrolled": true
   },
   "outputs": [],
   "source": [
    "spy.info"
   ]
  },
  {
   "cell_type": "code",
   "execution_count": null,
   "id": "85e9b74c",
   "metadata": {
    "scrolled": true
   },
   "outputs": [],
   "source": [
    "spy.splits"
   ]
  },
  {
   "cell_type": "code",
   "execution_count": null,
   "id": "759b66d3",
   "metadata": {},
   "outputs": [],
   "source": [
    "spy.info.keys() # show higher level frame, see what we can do about it"
   ]
  },
  {
   "cell_type": "code",
   "execution_count": null,
   "id": "16a7cf45",
   "metadata": {},
   "outputs": [],
   "source": [
    "# clean data\n",
    "# deal with time serials of data"
   ]
  },
  {
   "cell_type": "code",
   "execution_count": null,
   "id": "6d9408c8",
   "metadata": {},
   "outputs": [],
   "source": [
    "spy.institutional_holders"
   ]
  },
  {
   "cell_type": "code",
   "execution_count": null,
   "id": "8c3ebe49",
   "metadata": {},
   "outputs": [],
   "source": [
    "spy.earnings_history # need to fetch from bloomberg?"
   ]
  },
  {
   "cell_type": "code",
   "execution_count": null,
   "id": "7de9f933",
   "metadata": {},
   "outputs": [],
   "source": [
    "FetchedSpy=spy.history(period='max')"
   ]
  },
  {
   "cell_type": "code",
   "execution_count": null,
   "id": "da997815",
   "metadata": {
    "scrolled": false
   },
   "outputs": [],
   "source": [
    "print(spy.history(period='max'))"
   ]
  },
  {
   "cell_type": "code",
   "execution_count": null,
   "id": "a5b42a54",
   "metadata": {},
   "outputs": [],
   "source": [
    "FetchedSpy.to_csv(\"SPYoutPut.csv\")"
   ]
  },
  {
   "cell_type": "code",
   "execution_count": null,
   "id": "f2e2cfbe",
   "metadata": {},
   "outputs": [],
   "source": [
    "df=spy.dividends\n",
    "df\n"
   ]
  },
  {
   "cell_type": "code",
   "execution_count": null,
   "id": "1f979c9e",
   "metadata": {},
   "outputs": [],
   "source": [
    "pprint(spy.info)"
   ]
  },
  {
   "cell_type": "code",
   "execution_count": null,
   "id": "61149e73",
   "metadata": {},
   "outputs": [],
   "source": [
    "IndexPE=spy.info['equityHoldings']['priceToEarnings']\n",
    "IndexPE"
   ]
  },
  {
   "cell_type": "code",
   "execution_count": null,
   "id": "b6867fc6",
   "metadata": {},
   "outputs": [],
   "source": [
    "# for key,value in stockinfo.items():\n",
    "#    print(key,':',value)\n",
    "df=spy.dividends\n",
    "dff=df.to_frame()\n",
    "dff"
   ]
  },
  {
   "cell_type": "code",
   "execution_count": null,
   "id": "59c11b71",
   "metadata": {},
   "outputs": [],
   "source": [
    "dir(df) # study these method for fun?"
   ]
  },
  {
   "cell_type": "code",
   "execution_count": null,
   "id": "da3d9176",
   "metadata": {},
   "outputs": [],
   "source": [
    "data=df.resample('Y').sum()\n",
    "data"
   ]
  },
  {
   "cell_type": "code",
   "execution_count": null,
   "id": "7f523440",
   "metadata": {
    "scrolled": true
   },
   "outputs": [],
   "source": [
    "dff2=dff.reset_index()['Date'].dt.year # try how to split them further\n",
    "dff2"
   ]
  },
  {
   "cell_type": "code",
   "execution_count": null,
   "id": "e1c5bb1d",
   "metadata": {},
   "outputs": [],
   "source": [
    "FetchedSpy"
   ]
  },
  {
   "cell_type": "code",
   "execution_count": null,
   "id": "8acdc501",
   "metadata": {},
   "outputs": [],
   "source": [
    "FetchedSpy.shift(1)"
   ]
  },
  {
   "cell_type": "code",
   "execution_count": null,
   "id": "6919fcae",
   "metadata": {},
   "outputs": [],
   "source": [
    "FetchedSpy.describe()"
   ]
  },
  {
   "cell_type": "code",
   "execution_count": null,
   "id": "f0a1e9a2",
   "metadata": {},
   "outputs": [],
   "source": [
    "FetchedSpy['Close'].max()"
   ]
  },
  {
   "cell_type": "code",
   "execution_count": null,
   "id": "d9ae9a49",
   "metadata": {},
   "outputs": [],
   "source": [
    "volumefeedMaxperiod=FetchedSpy.groupby(['Close']).sum()['Volume']\n",
    "volumefeedMaxperiod=volumefeedMaxperiod.reset_index()\n",
    "volumefeedMaxperiod"
   ]
  },
  {
   "cell_type": "code",
   "execution_count": null,
   "id": "67a15a12",
   "metadata": {
    "scrolled": true
   },
   "outputs": [],
   "source": [
    "pricingbin=[0,25,50,75,100,125,150,175,200,225,250,275,300,325,350,375,400,425,450,475]\n",
    "labels=[\"0~25\",\"25~50\",\"50~75\",\"75~100\",\"100~125\",\"125~150\",\"150~175\",\"175~200\",\"200~225\",\"225~250\",\n",
    "      \"250~275\",\"275~300\",\"300~325\",\"325~350\",\"350~375\",\"375~400\",\"400~425\",\"425~450\",\"450~int(FetchedSpy['Close'].max())\"]\n",
    "volumeOverpricelabels=pd.cut(volumefeedMaxperiod['Close'],bins=pricingbin)\n",
    "volumeOverpricelabels"
   ]
  },
  {
   "cell_type": "code",
   "execution_count": null,
   "id": "1a45cb75",
   "metadata": {
    "scrolled": true
   },
   "outputs": [],
   "source": [
    "volumefeedMaxperiod['StockRange']=volumeOverpricelabels\n",
    "volumefeedMaxperiod"
   ]
  },
  {
   "cell_type": "code",
   "execution_count": null,
   "id": "5e1ce067",
   "metadata": {
    "scrolled": false
   },
   "outputs": [],
   "source": [
    "pricevolumeforPlot=volumefeedMaxperiod.groupby(['StockRange']).sum()['Volume']\n",
    "pricevolumeforPlot.plot(kind='bar')"
   ]
  },
  {
   "cell_type": "code",
   "execution_count": null,
   "id": "6a90dfd5",
   "metadata": {},
   "outputs": [],
   "source": [
    "FetchedSpy['Volume'].plot() "
   ]
  },
  {
   "cell_type": "code",
   "execution_count": null,
   "id": "39ba9ea1",
   "metadata": {
    "scrolled": true
   },
   "outputs": [],
   "source": [
    "closerlookvolume=pricevolumeforPlot.loc[pricevolumeforPlot.index[10:]]\n",
    "closerlookvolume.plot(kind='bar')\n"
   ]
  },
  {
   "cell_type": "code",
   "execution_count": null,
   "id": "9eec8c25",
   "metadata": {
    "scrolled": true
   },
   "outputs": [],
   "source": [
    "byunit10=np.linspace(start=0,stop=480,num=49)\n",
    "byunit10"
   ]
  },
  {
   "cell_type": "code",
   "execution_count": null,
   "id": "f2cecc27",
   "metadata": {},
   "outputs": [],
   "source": [
    "FetchedSpy"
   ]
  },
  {
   "cell_type": "code",
   "execution_count": null,
   "id": "c898003b",
   "metadata": {
    "scrolled": true
   },
   "outputs": [],
   "source": [
    "np.arange(0,480,1)"
   ]
  },
  {
   "cell_type": "code",
   "execution_count": null,
   "id": "116b8df9",
   "metadata": {
    "scrolled": false
   },
   "outputs": [],
   "source": [
    "FetchedSpy"
   ]
  },
  {
   "cell_type": "code",
   "execution_count": null,
   "id": "bf59bd5e",
   "metadata": {},
   "outputs": [],
   "source": [
    "FetchedSpy"
   ]
  },
  {
   "cell_type": "code",
   "execution_count": null,
   "id": "34c89ee6",
   "metadata": {},
   "outputs": [],
   "source": [
    "def volumeonPriceintervalFC(df,x,n,m):\n",
    "    binn=np.arange(0,480,x).tolist()\n",
    "    result=pd.cut(df['Close'],bins=binn)\n",
    "    df['Range']=result\n",
    "    fm=df.groupby(['Range']).sum()['Volume'][n:m]  \n",
    "    gp=fm.plot(kind='bar')\n",
    "    return gp\n",
    "    "
   ]
  },
  {
   "cell_type": "code",
   "execution_count": null,
   "id": "39e05c0a",
   "metadata": {},
   "outputs": [],
   "source": [
    "volumeonPriceintervalFC(df=FetchedSpy,x=1,n=450,m=480)"
   ]
  },
  {
   "cell_type": "code",
   "execution_count": null,
   "id": "c865aa21",
   "metadata": {},
   "outputs": [],
   "source": [
    "type(FetchedSpy['Volume'][0])"
   ]
  },
  {
   "cell_type": "code",
   "execution_count": null,
   "id": "a4151d6d",
   "metadata": {},
   "outputs": [],
   "source": [
    "binn=np.arange(25,480,3).tolist()\n",
    "binn\n",
    "result=pd.cut(FetchedSpy['Close'],bins=binn)\n",
    "result\n",
    "FetchedSpy['Range']=result\n",
    "plott=FetchedSpy.groupby(['Range']).sum()['Volume'][130:]\n",
    "plott.plot(kind='bar')"
   ]
  },
  {
   "cell_type": "code",
   "execution_count": null,
   "id": "50edc9de",
   "metadata": {},
   "outputs": [],
   "source": [
    "labelsBY5=[]"
   ]
  },
  {
   "cell_type": "code",
   "execution_count": null,
   "id": "960e7ed2",
   "metadata": {
    "scrolled": false
   },
   "outputs": [],
   "source": [
    "volumeOverpricelabelsbyUnit10=pd.cut(volumefeedMaxperiod['Close'],bins=byunit10)\n",
    "volumeOverpricelabelsbyUnit10"
   ]
  },
  {
   "cell_type": "code",
   "execution_count": null,
   "id": "ba01536c",
   "metadata": {
    "scrolled": false
   },
   "outputs": [],
   "source": [
    "volumeOverpricelabelsbyUnit10df=volumefeedMaxperiod.copy()\n",
    "volumeOverpricelabelsbyUnit10df['StockRange']=volumeOverpricelabelsbyUnit10\n",
    "volumeOverpricelabelsbyUnit10df"
   ]
  },
  {
   "cell_type": "code",
   "execution_count": null,
   "id": "bce6ae94",
   "metadata": {
    "scrolled": true
   },
   "outputs": [],
   "source": [
    "voulumeoverPriceUnit10=volumeOverpricelabelsbyUnit10df.groupby([\"StockRange\"]).sum()['Volume']\n",
    "voulumeoverPriceUnit10.plot(kind='bar')"
   ]
  },
  {
   "cell_type": "code",
   "execution_count": null,
   "id": "b7480264",
   "metadata": {},
   "outputs": [],
   "source": [
    "len(voulumeoverPriceUnit10)"
   ]
  },
  {
   "cell_type": "code",
   "execution_count": null,
   "id": "ac270c93",
   "metadata": {},
   "outputs": [],
   "source": [
    "closerlookunitby10graph=voulumeoverPriceUnit10[30:].plot(kind=\"bar\")"
   ]
  },
  {
   "cell_type": "code",
   "execution_count": null,
   "id": "a500c683",
   "metadata": {},
   "outputs": [],
   "source": [
    "\n",
    "volumeOverpricelabelsbyUnit10=pd.cut(volumefeedMaxperiod['Close'],bins=byunit10)"
   ]
  },
  {
   "cell_type": "code",
   "execution_count": null,
   "id": "40848349",
   "metadata": {},
   "outputs": [],
   "source": [
    "#looking closer\n"
   ]
  },
  {
   "cell_type": "code",
   "execution_count": null,
   "id": "20d869cf",
   "metadata": {
    "scrolled": false
   },
   "outputs": [],
   "source": [
    "df2022=spy.history(start='2022-01-01',end='2022-12-30', rounding=True) # note here rounding =true to give to cents\n",
    "df2022"
   ]
  },
  {
   "cell_type": "code",
   "execution_count": null,
   "id": "5a999dfe",
   "metadata": {},
   "outputs": [],
   "source": [
    "profileMaxPeriod=ProfileReport(FetchedSpy,title=\"MaxPeriodReport\")\n",
    "profileMaxPeriod"
   ]
  },
  {
   "cell_type": "code",
   "execution_count": null,
   "id": "0b68a0dc",
   "metadata": {},
   "outputs": [],
   "source": [
    "import matplotlib.pyplot as plt"
   ]
  },
  {
   "cell_type": "code",
   "execution_count": null,
   "id": "df9cc288",
   "metadata": {
    "scrolled": false
   },
   "outputs": [],
   "source": [
    "\n",
    "plt.figure(figsize=(10,6))\n",
    "performance=plt.plot(FetchedSpy['Close'])\n",
    "plt.grid()\n",
    "plt.show()"
   ]
  },
  {
   "cell_type": "code",
   "execution_count": null,
   "id": "93ab9ea9",
   "metadata": {},
   "outputs": [],
   "source": [
    "def givemeachart(input,start,end): # is this the dependency not within the function?# notice need to put diff quotation on it\n",
    "    ticker=yf.Ticker(input)\n",
    "    Fetched=ticker.history(start=start,end=end)\n",
    "    plt.figure(figsize=(10,6))\n",
    "    performance=plt.plot(Fetched['Close'])\n",
    "    plt.grid()\n",
    "    plt.show()\n",
    "# looking for the documentary to define the functions"
   ]
  },
  {
   "cell_type": "code",
   "execution_count": null,
   "id": "1cbfc7ad",
   "metadata": {
    "scrolled": true
   },
   "outputs": [],
   "source": [
    "graph2022=givemeachart(\"de\",'2022-01-01','2022-12-30')"
   ]
  },
  {
   "cell_type": "code",
   "execution_count": null,
   "id": "b6d7bf96",
   "metadata": {
    "scrolled": true
   },
   "outputs": [],
   "source": [
    "graphTqqq=givemeachart(\"TQQQ\",'2022-01-01','2022-12-30')"
   ]
  },
  {
   "cell_type": "code",
   "execution_count": null,
   "id": "58a71dc8",
   "metadata": {},
   "outputs": [],
   "source": [
    "Bitcoin=givemeachart('BTC-USD','2022-01-01','2022-12-30')"
   ]
  },
  {
   "cell_type": "code",
   "execution_count": null,
   "id": "501e12e9",
   "metadata": {},
   "outputs": [],
   "source": [
    "#faster way to do things\n",
    "# from pandas_datareader import data as pdr\n",
    "\n",
    "# import yfinance as yf\n",
    "# yf.pdr_override() # <== that's all it takes :-)\n",
    "\n",
    "# # download dataframe\n",
    "# data = pdr.get_data_yahoo(\"SPY\", start=\"2017-01-01\", end=\"2017-04-30\")"
   ]
  },
  {
   "cell_type": "code",
   "execution_count": null,
   "id": "ff67b00c",
   "metadata": {},
   "outputs": [],
   "source": [
    "# note we can request the data from yahoo finace by per minutes\n",
    "qqq=yf.Ticker('QQQ')\n",
    "df=qqq.history(period='max',actions=False,rounding=True,interval='15m')\n",
    "df"
   ]
  },
  {
   "cell_type": "code",
   "execution_count": null,
   "id": "548a2ae5",
   "metadata": {
    "scrolled": true
   },
   "outputs": [],
   "source": [
    "df15min=qqq.history(period='60d',actions=False,rounding=True,interval='15m',prepost=False)\n",
    "df15min"
   ]
  },
  {
   "cell_type": "code",
   "execution_count": null,
   "id": "a6d7b8fd",
   "metadata": {},
   "outputs": [],
   "source": [
    "df15min=qqq.history(period='60d',actions=False,rounding=True,interval='15m',prepost=False,start=\"2022-12-01\",end='2022-01-01')\n",
    "df15min"
   ]
  },
  {
   "cell_type": "code",
   "execution_count": null,
   "id": "289bc573",
   "metadata": {},
   "outputs": [],
   "source": [
    "df15min=qqq.history(period='60d',actions=False,rounding=True,interval='15m',prepost=False)\n",
    "df15min"
   ]
  },
  {
   "cell_type": "code",
   "execution_count": null,
   "id": "cb9930d4",
   "metadata": {
    "scrolled": true
   },
   "outputs": [],
   "source": [
    "df15min.info()"
   ]
  },
  {
   "cell_type": "code",
   "execution_count": null,
   "id": "8e2ad178",
   "metadata": {},
   "outputs": [],
   "source": [
    "# note it give the index loop through time"
   ]
  },
  {
   "cell_type": "code",
   "execution_count": null,
   "id": "658a17ff",
   "metadata": {},
   "outputs": [],
   "source": [
    "#discover it is a \n",
    "type(df15min.copy().reset_index()['Datetime'][0])"
   ]
  },
  {
   "cell_type": "code",
   "execution_count": null,
   "id": "720ada97",
   "metadata": {},
   "outputs": [],
   "source": [
    "4\n",
    "# stack overflow\n",
    "\n",
    "# First, make sure your TIMESTAMP column is a datetime instead of a string (e.g. df['TIMESTAMP'] = pd.to_datetime(df.TIMESTAMP)).\n",
    "\n",
    "# Next, use this column as the index of the dataframe. To make this permanent, df.set_index('TIMESTAMP, inplace=True)`.\n",
    "\n",
    "# Now you can resample for any given frequency (e.g. 30min) and use different methods of aggregation such as sum, mean (the default), a lambda function, etc).\n",
    "\n",
    "# Optionally, you can add .fillna(0) to replace the NaNs with zeros."
   ]
  },
  {
   "cell_type": "code",
   "execution_count": null,
   "id": "64c7bd24",
   "metadata": {},
   "outputs": [],
   "source": [
    "ploTSeries=df15min['Close']\n",
    "ploTSeries"
   ]
  },
  {
   "cell_type": "code",
   "execution_count": null,
   "id": "04169106",
   "metadata": {
    "scrolled": true
   },
   "outputs": [],
   "source": [
    "plt.figure(figsize=(8,5))\n",
    "ploTSeries.plot(title='QQQ15min')"
   ]
  },
  {
   "cell_type": "code",
   "execution_count": null,
   "id": "83d8fe7a",
   "metadata": {
    "scrolled": true
   },
   "outputs": [],
   "source": [
    "YMDformatSPYadj"
   ]
  },
  {
   "cell_type": "code",
   "execution_count": null,
   "id": "fea6be0b",
   "metadata": {},
   "outputs": [],
   "source": [
    "howmanydayfromtoday=(np.arange(0,len(YMDformatSPYadj))+1).tolist()\n",
    "howmanydayfromtoday=howmanydayfromtoday[::-1]\n",
    "howmanydayfromtoday# no we can construct it for the day we wanna"
   ]
  },
  {
   "cell_type": "code",
   "execution_count": null,
   "id": "3a6500f0",
   "metadata": {
    "scrolled": false
   },
   "outputs": [],
   "source": [
    "YMDformatSPYadj['Retriveday']=howmanydayfromtoday\n",
    "Yeartodayframe=YMDformatSPYadj.sort_values(by='Retriveday',ascending=True)\n",
    "Yeartodayframe"
   ]
  },
  {
   "cell_type": "code",
   "execution_count": null,
   "id": "e48ce0c2",
   "metadata": {},
   "outputs": [],
   "source": [
    "resetdf=YMDformatSPYadj.reset_index()\n",
    "resetdf"
   ]
  },
  {
   "cell_type": "code",
   "execution_count": null,
   "id": "1176efd4",
   "metadata": {},
   "outputs": [],
   "source": [
    "spy=yf.Ticker('SPY')\n",
    "type(spy)"
   ]
  },
  {
   "cell_type": "code",
   "execution_count": null,
   "id": "32c066be",
   "metadata": {},
   "outputs": [],
   "source": [
    "time in df.reset_index()['Date'] if "
   ]
  },
  {
   "cell_type": "code",
   "execution_count": null,
   "id": "6a27982e",
   "metadata": {},
   "outputs": [],
   "source": [
    "finalize15min=[]\n",
    "for i,day in enumerate(Yeartodayframe.reset_index()['Date'],start=1):\n",
    "#          print(i,day)\n",
    "    if (i%60==0 & i>=59):\n",
    "        start=resetdf.iloc[i-59,0].strftime(\"%Y-%m-%d\")\n",
    "        end=resetdf.iloc[i,0].strftime(\"%Y-%m-%d\")\n",
    "        df=spy.history(start=start,end=end,actions=False,rounding=True,interval='15m',prepost=False)\n",
    "        #?loop through df append each raw\n",
    "        #? append each columns to list and let overwrite?\n",
    "        #any better way to do ?D\n",
    "\n",
    "        \n",
    "\n",
    "\n",
    "        \n",
    "        \n",
    "\n",
    "\n",
    "# df15mins=spy.history(start='2022-10-30',end='2022-11-30',actions=False,rounding=True,interval='15m',prepost=False)\n",
    "# df15mins"
   ]
  },
  {
   "cell_type": "code",
   "execution_count": null,
   "id": "e7c4836c",
   "metadata": {},
   "outputs": [],
   "source": [
    "df15mins=qqq.history(period=\"90d\",actions=False,rounding=True,interval='15m',prepost=False)"
   ]
  },
  {
   "cell_type": "code",
   "execution_count": null,
   "id": "e33304be",
   "metadata": {},
   "outputs": [],
   "source": [
    "current_date=datetime.now()\n",
    "current_date"
   ]
  },
  {
   "cell_type": "code",
   "execution_count": null,
   "id": "7b39a0be",
   "metadata": {
    "scrolled": true
   },
   "outputs": [],
   "source": [
    "df15mins.index.strftime(\"%Y-%m-%d\")[0]"
   ]
  },
  {
   "cell_type": "code",
   "execution_count": null,
   "id": "d7b06cf3",
   "metadata": {},
   "outputs": [],
   "source": []
  },
  {
   "cell_type": "code",
   "execution_count": null,
   "id": "221f25b0",
   "metadata": {},
   "outputs": [],
   "source": [
    "# lower level data for deeper loop, can be start data=x x from a range listed"
   ]
  },
  {
   "cell_type": "markdown",
   "id": "11eec1ca",
   "metadata": {},
   "source": [
    "# Option Section"
   ]
  },
  {
   "cell_type": "code",
   "execution_count": null,
   "id": "c4ea748e",
   "metadata": {
    "scrolled": false
   },
   "outputs": [],
   "source": [
    "Experisionlist=spy.options\n",
    "Experisionlist"
   ]
  },
  {
   "cell_type": "code",
   "execution_count": null,
   "id": "72eb257c",
   "metadata": {},
   "outputs": [],
   "source": [
    "Experisionlist[0]"
   ]
  },
  {
   "cell_type": "code",
   "execution_count": null,
   "id": "786df5f8",
   "metadata": {},
   "outputs": [],
   "source": [
    "puts=options.puts\n",
    "puts"
   ]
  },
  {
   "cell_type": "code",
   "execution_count": null,
   "id": "e73f38d9",
   "metadata": {},
   "outputs": [],
   "source": [
    "options.calls.info()"
   ]
  },
  {
   "cell_type": "code",
   "execution_count": null,
   "id": "2653a834",
   "metadata": {
    "scrolled": true
   },
   "outputs": [],
   "source": [
    "options.puts.info()"
   ]
  },
  {
   "cell_type": "code",
   "execution_count": null,
   "id": "177e1ef5",
   "metadata": {},
   "outputs": [],
   "source": []
  },
  {
   "cell_type": "code",
   "execution_count": null,
   "id": "4a235690",
   "metadata": {},
   "outputs": [],
   "source": [
    "\n",
    "for index,price in enumerate(c):\n",
    "    if ((price%10==0) & (price>=10)):\n",
    "        labelsBY5.append(f\"less than {price}\")\n",
    "labelsBY5\n",
    "    \n",
    "        \n",
    "           \n",
    "\n",
    "\n",
    "            \n",
    "        "
   ]
  },
  {
   "cell_type": "code",
   "execution_count": null,
   "id": "b31490ff",
   "metadata": {},
   "outputs": [],
   "source": []
  }
 ],
 "metadata": {
  "kernelspec": {
   "display_name": "Python 3 (ipykernel)",
   "language": "python",
   "name": "python3"
  },
  "language_info": {
   "codemirror_mode": {
    "name": "ipython",
    "version": 3
   },
   "file_extension": ".py",
   "mimetype": "text/x-python",
   "name": "python",
   "nbconvert_exporter": "python",
   "pygments_lexer": "ipython3",
   "version": "3.9.12"
  }
 },
 "nbformat": 4,
 "nbformat_minor": 5
}
