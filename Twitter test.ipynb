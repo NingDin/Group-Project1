{
 "cells": [
  {
   "cell_type": "code",
   "execution_count": 2,
   "id": "b21abcfa",
   "metadata": {},
   "outputs": [],
   "source": [
    "import tweepy\n",
    "import config\n",
    "from pprint import pprint"
   ]
  },
  {
   "cell_type": "code",
   "execution_count": 3,
   "id": "b13bb0a3",
   "metadata": {},
   "outputs": [],
   "source": [
    "client=tweepy.Client(bearer_token=config.BEARER_TOKEN)"
   ]
  },
  {
   "cell_type": "code",
   "execution_count": 4,
   "id": "1974a476",
   "metadata": {
    "scrolled": false
   },
   "outputs": [
    {
     "data": {
      "text/plain": [
       "['__class__',\n",
       " '__delattr__',\n",
       " '__dict__',\n",
       " '__dir__',\n",
       " '__doc__',\n",
       " '__eq__',\n",
       " '__format__',\n",
       " '__ge__',\n",
       " '__getattribute__',\n",
       " '__gt__',\n",
       " '__hash__',\n",
       " '__init__',\n",
       " '__init_subclass__',\n",
       " '__le__',\n",
       " '__lt__',\n",
       " '__module__',\n",
       " '__ne__',\n",
       " '__new__',\n",
       " '__reduce__',\n",
       " '__reduce_ex__',\n",
       " '__repr__',\n",
       " '__setattr__',\n",
       " '__sizeof__',\n",
       " '__str__',\n",
       " '__subclasshook__',\n",
       " '__weakref__',\n",
       " '_construct_response',\n",
       " '_get_authenticating_user_id',\n",
       " '_get_oauth_1_authenticating_user_id',\n",
       " '_get_oauth_2_authenticating_user_id',\n",
       " '_make_request',\n",
       " '_process_data',\n",
       " '_process_includes',\n",
       " '_process_params',\n",
       " 'access_token',\n",
       " 'access_token_secret',\n",
       " 'add_list_member',\n",
       " 'bearer_token',\n",
       " 'block',\n",
       " 'bookmark',\n",
       " 'consumer_key',\n",
       " 'consumer_secret',\n",
       " 'create_compliance_job',\n",
       " 'create_direct_message',\n",
       " 'create_direct_message_conversation',\n",
       " 'create_dm',\n",
       " 'create_dm_conversation',\n",
       " 'create_list',\n",
       " 'create_tweet',\n",
       " 'delete_list',\n",
       " 'delete_tweet',\n",
       " 'follow',\n",
       " 'follow_list',\n",
       " 'follow_user',\n",
       " 'get_all_tweets_count',\n",
       " 'get_blocked',\n",
       " 'get_bookmarks',\n",
       " 'get_compliance_job',\n",
       " 'get_compliance_jobs',\n",
       " 'get_direct_message_events',\n",
       " 'get_dm_events',\n",
       " 'get_followed_lists',\n",
       " 'get_home_timeline',\n",
       " 'get_liked_tweets',\n",
       " 'get_liking_users',\n",
       " 'get_list',\n",
       " 'get_list_followers',\n",
       " 'get_list_members',\n",
       " 'get_list_memberships',\n",
       " 'get_list_tweets',\n",
       " 'get_me',\n",
       " 'get_muted',\n",
       " 'get_owned_lists',\n",
       " 'get_pinned_lists',\n",
       " 'get_quote_tweets',\n",
       " 'get_recent_tweets_count',\n",
       " 'get_retweeters',\n",
       " 'get_space',\n",
       " 'get_space_buyers',\n",
       " 'get_space_tweets',\n",
       " 'get_spaces',\n",
       " 'get_tweet',\n",
       " 'get_tweets',\n",
       " 'get_user',\n",
       " 'get_users',\n",
       " 'get_users_followers',\n",
       " 'get_users_following',\n",
       " 'get_users_mentions',\n",
       " 'get_users_tweets',\n",
       " 'hide_reply',\n",
       " 'like',\n",
       " 'mute',\n",
       " 'pin_list',\n",
       " 'remove_bookmark',\n",
       " 'remove_list_member',\n",
       " 'request',\n",
       " 'return_type',\n",
       " 'retweet',\n",
       " 'search_all_tweets',\n",
       " 'search_recent_tweets',\n",
       " 'search_spaces',\n",
       " 'session',\n",
       " 'unblock',\n",
       " 'unfollow',\n",
       " 'unfollow_list',\n",
       " 'unfollow_user',\n",
       " 'unhide_reply',\n",
       " 'unlike',\n",
       " 'unmute',\n",
       " 'unpin_list',\n",
       " 'unretweet',\n",
       " 'update_list',\n",
       " 'user_agent',\n",
       " 'wait_on_rate_limit']"
      ]
     },
     "execution_count": 4,
     "metadata": {},
     "output_type": "execute_result"
    }
   ],
   "source": [
    "dir(client)"
   ]
  },
  {
   "cell_type": "code",
   "execution_count": 5,
   "id": "de5a35f2",
   "metadata": {},
   "outputs": [
    {
     "ename": "SyntaxError",
     "evalue": "invalid syntax (860764496.py, line 1)",
     "output_type": "error",
     "traceback": [
      "\u001b[1;36m  Input \u001b[1;32mIn [5]\u001b[1;36m\u001b[0m\n\u001b[1;33m    for user in client.get_users\u001b[0m\n\u001b[1;37m                                ^\u001b[0m\n\u001b[1;31mSyntaxError\u001b[0m\u001b[1;31m:\u001b[0m invalid syntax\n"
     ]
    }
   ],
   "source": [
    "for user in client.get_users\n",
    "    print(user)"
   ]
  },
  {
   "cell_type": "code",
   "execution_count": 17,
   "id": "6e8123d2",
   "metadata": {
    "scrolled": false
   },
   "outputs": [
    {
     "name": "stdout",
     "output_type": "stream",
     "text": [
      "Response(data=[<Tweet id=1600653858329755648 text='RT @GhanshyamRaj: PCR –  PUT CALL RATIO at every strike price is also an important parameter for every option trader.\\n\\n&lt;0.8 – BEARISH\\n0.8 –…'>, <Tweet id=1600650587686961152 text='Live Option Trading  | Bank Nifty Profits +1 lakh | Live Intraday Tradin... https://t.co/XSvtaNaU2w via @YouTube \\n\\n#livetrading #liveoptionstrading'>, <Tweet id=1600649954703425540 text='Trading for Vucevic should not be an option at all for LA. Derozan is a bad trade piece as well. LA needs to stay away from the Bulls if the centerpiece is not Lavine.'>, <Tweet id=1600649105256206337 text='@MikeEdward_TTG Hi Mike, in ur course curriculum, does it teach how to Short too or just Trading Option only bc I am very interested in Shorting the stocks, n I already took Option course fr another trading option school few yr ago…. TY!'>, <Tweet id=1600647834839437313 text='RT @subodhsingh_: BANKNIFTY 08 DEC OPTION STRATEGY :\\n\\nBUY BANKNIFTY 43300 CALL 1 LOT\\nCMP 100\\n\\nSELL BANKNIFTY 43500 CALL 2 LOT\\nCMP 50\\n\\nTOTAL…'>, <Tweet id=1600645072554319872 text='RT @DhanHQ: TradingView features you get for free only on Dhan:\\n\\n- Trade directly on Charts\\n- Execute basket orders for Options\\n- Access Op…'>, <Tweet id=1600641270111948800 text='RT @SJosephBurns: 12 Powerful Option Trading Strategies Every Trader Should Know - New Trader U https://t.co/LVoXYgPuSV'>, <Tweet id=1600640207803531265 text=\"@Ayrshire_Exile @jac45192559 @lokiscottishrap How can being an island and being split into two not be relevant if it means two completely different immigration policies?\\n\\nThere's no Irish Sea option for us, just the M74.\\n\\nI'm just curious how nationalists see a hard border with our largest trading partner being a success.\">, <Tweet id=1600631721552232448 text='@trezor @hodlhodl 💕new🍐2🍐non-kyc trading option. Will be great when fiat on/off ramps get broken. In meantime attracts dubious users &amp; needs a \"trader cancelled transaction\" kpi. \\n\\nJust spent 2 hrs &amp; seller finally cancelled as wanted fiat before sending BTC to escrow :('>, <Tweet id=1600631385034788866 text='RT @MasterPandaWu: Saw some jumpy &amp; over-jubilant comments from followers, esp. those who have no in-depth understanding of &amp; deep scars fr…'>], includes={}, errors=[], meta={'newest_id': '1600653858329755648', 'oldest_id': '1600631385034788866', 'result_count': 10, 'next_token': 'b26v89c19zqg8o3fqk0zkrk25euevy6drydyhv5uubbst'})\n"
     ]
    }
   ],
   "source": [
    "query='option trading -has:media'\n",
    "response=client.search_recent_tweets(query=query,max_results=10,tweet_fields=['created_at','lang','attachments'])\n",
    "#                                      expansions=['author_id'],user_fields=['profile_image_url'])\n",
    "pprint(response)\n"
   ]
  },
  {
   "cell_type": "code",
   "execution_count": 24,
   "id": "d1dc9667",
   "metadata": {},
   "outputs": [
    {
     "data": {
      "text/plain": [
       "tweepy.tweet.Tweet"
      ]
     },
     "execution_count": 24,
     "metadata": {},
     "output_type": "execute_result"
    }
   ],
   "source": [
    "type(response.data[0])"
   ]
  },
  {
   "cell_type": "code",
   "execution_count": 21,
   "id": "957d1a8c",
   "metadata": {
    "scrolled": true
   },
   "outputs": [
    {
     "data": {
      "text/plain": [
       "{'text': 'RT @GhanshyamRaj: PCR –  PUT CALL RATIO at every strike price is also an important parameter for every option trader.\\n\\n&lt;0.8 – BEARISH\\n0.8 –…',\n",
       " 'edit_history_tweet_ids': ['1600653858329755648'],\n",
       " 'created_at': '2022-12-08T00:49:53.000Z',\n",
       " 'id': '1600653858329755648',\n",
       " 'lang': 'en'}"
      ]
     },
     "execution_count": 21,
     "metadata": {},
     "output_type": "execute_result"
    }
   ],
   "source": [
    "response.data[0].data\n"
   ]
  },
  {
   "cell_type": "code",
   "execution_count": 53,
   "id": "0b25dcb1",
   "metadata": {
    "scrolled": true
   },
   "outputs": [
    {
     "name": "stdout",
     "output_type": "stream",
     "text": [
      "1600183481602301952\n",
      "BalkrishnaRola\n",
      "https://pbs.twimg.com/profile_images/1243779481858215936/T0t8dDyx_normal.jpg\n",
      "1600181441350205440\n",
      "Krish_404\n",
      "https://pbs.twimg.com/profile_images/1465988488797429767/ZC7Y3axR_normal.jpg\n",
      "1600181425075937281\n",
      "CHUCKYARLA13\n",
      "https://pbs.twimg.com/profile_images/1538904462311538694/UBEaf0ck_normal.jpg\n",
      "1600180749499789314\n",
      "SeekingAlpha\n",
      "https://pbs.twimg.com/profile_images/534299535552421888/eHacq8EQ_normal.png\n",
      "1600180140423581696\n",
      "TUlm24\n",
      "https://pbs.twimg.com/profile_images/1506109920550305797/hP8fIvi1_normal.jpg\n",
      "1600179064966242308\n",
      "ClydeTheGlide28\n",
      "https://pbs.twimg.com/profile_images/1301601282054959104/ykRW1uok_normal.jpg\n",
      "1600178994867245056\n",
      "sbadriprasad\n",
      "https://pbs.twimg.com/profile_images/1375431306520141831/0PSunr2P_normal.jpg\n",
      "1600178628980924423\n",
      "GOATofWallSkree\n",
      "https://pbs.twimg.com/profile_images/1592664400619528192/rrZihj2j_normal.jpg\n",
      "1600177204901859329\n",
      "Sunitasharmaop\n",
      "https://pbs.twimg.com/profile_images/1600030055258021888/GCFmlCMp_normal.jpg\n",
      "1600176972097007616\n",
      "Sunitasharmaop\n",
      "https://pbs.twimg.com/profile_images/1600030055258021888/GCFmlCMp_normal.jpg\n",
      "1600176942309068801\n",
      "Sunitasharmaop\n",
      "https://pbs.twimg.com/profile_images/1600030055258021888/GCFmlCMp_normal.jpg\n",
      "1600176917688512512\n",
      "Sunitasharmaop\n",
      "https://pbs.twimg.com/profile_images/1600030055258021888/GCFmlCMp_normal.jpg\n",
      "1600176886667431936\n",
      "Sunitasharmaop\n",
      "https://pbs.twimg.com/profile_images/1600030055258021888/GCFmlCMp_normal.jpg\n",
      "1600176858079068160\n",
      "Sunitasharmaop\n",
      "https://pbs.twimg.com/profile_images/1600030055258021888/GCFmlCMp_normal.jpg\n",
      "1600176813468454913\n",
      "Sunitasharmaop\n",
      "https://pbs.twimg.com/profile_images/1600030055258021888/GCFmlCMp_normal.jpg\n",
      "1600176792689872898\n",
      "Sunitasharmaop\n",
      "https://pbs.twimg.com/profile_images/1600030055258021888/GCFmlCMp_normal.jpg\n",
      "1600176766550945792\n",
      "Sunitasharmaop\n",
      "https://pbs.twimg.com/profile_images/1600030055258021888/GCFmlCMp_normal.jpg\n",
      "1600176747546554368\n",
      "Sunitasharmaop\n",
      "https://pbs.twimg.com/profile_images/1600030055258021888/GCFmlCMp_normal.jpg\n",
      "1600176725346115584\n",
      "Sunitasharmaop\n",
      "https://pbs.twimg.com/profile_images/1600030055258021888/GCFmlCMp_normal.jpg\n",
      "1600176659596185600\n",
      "Sunitasharmaop\n",
      "https://pbs.twimg.com/profile_images/1600030055258021888/GCFmlCMp_normal.jpg\n",
      "1600176621675491329\n",
      "Sunitasharmaop\n",
      "https://pbs.twimg.com/profile_images/1600030055258021888/GCFmlCMp_normal.jpg\n",
      "1600176266694766592\n",
      "tradeparadigm\n",
      "https://pbs.twimg.com/profile_images/1513465487593811968/uUwfvplx_normal.jpg\n",
      "1600176030945538048\n",
      "Sunitasharmaop\n",
      "https://pbs.twimg.com/profile_images/1600030055258021888/GCFmlCMp_normal.jpg\n",
      "1600175999739912192\n",
      "Sunitasharmaop\n",
      "https://pbs.twimg.com/profile_images/1600030055258021888/GCFmlCMp_normal.jpg\n",
      "1600175953178931201\n",
      "Sunitasharmaop\n",
      "https://pbs.twimg.com/profile_images/1600030055258021888/GCFmlCMp_normal.jpg\n",
      "1600175882311983111\n",
      "Sunitasharmaop\n",
      "https://pbs.twimg.com/profile_images/1600030055258021888/GCFmlCMp_normal.jpg\n",
      "1600175857913724929\n",
      "Sunitasharmaop\n",
      "https://pbs.twimg.com/profile_images/1600030055258021888/GCFmlCMp_normal.jpg\n",
      "1600175788242128897\n",
      "Sunitasharmaop\n",
      "https://pbs.twimg.com/profile_images/1600030055258021888/GCFmlCMp_normal.jpg\n",
      "1600175775365632000\n",
      "Sunitasharmaop\n",
      "https://pbs.twimg.com/profile_images/1600030055258021888/GCFmlCMp_normal.jpg\n",
      "1600175754377334784\n",
      "Sunitasharmaop\n",
      "https://pbs.twimg.com/profile_images/1600030055258021888/GCFmlCMp_normal.jpg\n",
      "1600175739072307200\n",
      "Sunitasharmaop\n",
      "https://pbs.twimg.com/profile_images/1600030055258021888/GCFmlCMp_normal.jpg\n",
      "1600175663973289984\n",
      "Sunitasharmaop\n",
      "https://pbs.twimg.com/profile_images/1600030055258021888/GCFmlCMp_normal.jpg\n",
      "1600175637188472834\n",
      "Sunitasharmaop\n",
      "https://pbs.twimg.com/profile_images/1600030055258021888/GCFmlCMp_normal.jpg\n",
      "1600175617177448448\n",
      "Sunitasharmaop\n",
      "https://pbs.twimg.com/profile_images/1600030055258021888/GCFmlCMp_normal.jpg\n",
      "1600175597418090498\n",
      "Sunitasharmaop\n",
      "https://pbs.twimg.com/profile_images/1600030055258021888/GCFmlCMp_normal.jpg\n",
      "1600175568607391745\n",
      "Sunitasharmaop\n",
      "https://pbs.twimg.com/profile_images/1600030055258021888/GCFmlCMp_normal.jpg\n",
      "1600175550420897792\n",
      "Sunitasharmaop\n",
      "https://pbs.twimg.com/profile_images/1600030055258021888/GCFmlCMp_normal.jpg\n",
      "1600175526618222594\n",
      "Sunitasharmaop\n",
      "https://pbs.twimg.com/profile_images/1600030055258021888/GCFmlCMp_normal.jpg\n",
      "1600175500076650497\n",
      "Sunitasharmaop\n",
      "https://pbs.twimg.com/profile_images/1600030055258021888/GCFmlCMp_normal.jpg\n",
      "1600175479931424769\n",
      "Sunitasharmaop\n",
      "https://pbs.twimg.com/profile_images/1600030055258021888/GCFmlCMp_normal.jpg\n",
      "1600175380199256064\n",
      "Sunitasharmaop\n",
      "https://pbs.twimg.com/profile_images/1600030055258021888/GCFmlCMp_normal.jpg\n",
      "1600175358816694272\n",
      "Sunitasharmaop\n",
      "https://pbs.twimg.com/profile_images/1600030055258021888/GCFmlCMp_normal.jpg\n",
      "1600175286443597831\n",
      "NH_Gooner\n",
      "https://pbs.twimg.com/profile_images/1582881164477566978/fV4CQ2yj_normal.jpg\n",
      "1600175206492180482\n",
      "shikhar_seth\n",
      "https://pbs.twimg.com/profile_images/1121426137769398272/ZS4PZn6Z_normal.jpg\n",
      "1600174965302886402\n",
      "Sunitasharmaop\n",
      "https://pbs.twimg.com/profile_images/1600030055258021888/GCFmlCMp_normal.jpg\n",
      "1600174955236569088\n",
      "KumarNripesh21\n",
      "https://pbs.twimg.com/profile_images/1592436044888084480/ikZCJRGD_normal.jpg\n",
      "1600174906146426881\n",
      "Sunitasharmaop\n",
      "https://pbs.twimg.com/profile_images/1600030055258021888/GCFmlCMp_normal.jpg\n",
      "1600174880712163328\n",
      "Sunitasharmaop\n",
      "https://pbs.twimg.com/profile_images/1600030055258021888/GCFmlCMp_normal.jpg\n",
      "1600174866178531330\n",
      "WilliamsNgw123\n",
      "https://pbs.twimg.com/profile_images/1598783023536869387/rmUNXrgY_normal.jpg\n",
      "1600174851809226752\n",
      "Sunitasharmaop\n",
      "https://pbs.twimg.com/profile_images/1600030055258021888/GCFmlCMp_normal.jpg\n",
      "1600174762101452800\n",
      "Sunitasharmaop\n",
      "https://pbs.twimg.com/profile_images/1600030055258021888/GCFmlCMp_normal.jpg\n",
      "1600174732753895424\n",
      "Sunitasharmaop\n",
      "https://pbs.twimg.com/profile_images/1600030055258021888/GCFmlCMp_normal.jpg\n",
      "1600174714135400449\n",
      "Sunitasharmaop\n",
      "https://pbs.twimg.com/profile_images/1600030055258021888/GCFmlCMp_normal.jpg\n",
      "1600174692509581312\n",
      "Sunitasharmaop\n",
      "https://pbs.twimg.com/profile_images/1600030055258021888/GCFmlCMp_normal.jpg\n",
      "1600174668912414721\n",
      "Sunitasharmaop\n",
      "https://pbs.twimg.com/profile_images/1600030055258021888/GCFmlCMp_normal.jpg\n",
      "1600174643742396416\n",
      "Sunitasharmaop\n",
      "https://pbs.twimg.com/profile_images/1600030055258021888/GCFmlCMp_normal.jpg\n",
      "1600174615271477248\n",
      "Sunitasharmaop\n",
      "https://pbs.twimg.com/profile_images/1600030055258021888/GCFmlCMp_normal.jpg\n",
      "1600174521319030784\n",
      "Sunitasharmaop\n",
      "https://pbs.twimg.com/profile_images/1600030055258021888/GCFmlCMp_normal.jpg\n",
      "1600174496480366592\n",
      "Sunitasharmaop\n",
      "https://pbs.twimg.com/profile_images/1600030055258021888/GCFmlCMp_normal.jpg\n",
      "1600174328964087809\n",
      "Sunitasharmaop\n",
      "https://pbs.twimg.com/profile_images/1600030055258021888/GCFmlCMp_normal.jpg\n",
      "1600174224496525313\n",
      "Sunitasharmaop\n",
      "https://pbs.twimg.com/profile_images/1600030055258021888/GCFmlCMp_normal.jpg\n",
      "1600174179160313856\n",
      "Sunitasharmaop\n",
      "https://pbs.twimg.com/profile_images/1600030055258021888/GCFmlCMp_normal.jpg\n",
      "1600174177084125184\n",
      "Sunitasharmaop\n",
      "https://pbs.twimg.com/profile_images/1600030055258021888/GCFmlCMp_normal.jpg\n",
      "1600174073254154240\n",
      "Sunitasharmaop\n",
      "https://pbs.twimg.com/profile_images/1600030055258021888/GCFmlCMp_normal.jpg\n",
      "1600173889598156801\n",
      "Sunitasharmaop\n",
      "https://pbs.twimg.com/profile_images/1600030055258021888/GCFmlCMp_normal.jpg\n",
      "1600173852268847105\n",
      "Sunitasharmaop\n",
      "https://pbs.twimg.com/profile_images/1600030055258021888/GCFmlCMp_normal.jpg\n",
      "1600173804567015425\n",
      "Sunitasharmaop\n",
      "https://pbs.twimg.com/profile_images/1600030055258021888/GCFmlCMp_normal.jpg\n",
      "1600173750443708416\n",
      "Sunitasharmaop\n",
      "https://pbs.twimg.com/profile_images/1600030055258021888/GCFmlCMp_normal.jpg\n",
      "1600173706692947968\n",
      "Sunitasharmaop\n",
      "https://pbs.twimg.com/profile_images/1600030055258021888/GCFmlCMp_normal.jpg\n",
      "1600173686648365057\n",
      "Sunitasharmaop\n",
      "https://pbs.twimg.com/profile_images/1600030055258021888/GCFmlCMp_normal.jpg\n",
      "1600173670978433025\n",
      "Sunitasharmaop\n",
      "https://pbs.twimg.com/profile_images/1600030055258021888/GCFmlCMp_normal.jpg\n",
      "1600173634102120456\n",
      "Sunitasharmaop\n",
      "https://pbs.twimg.com/profile_images/1600030055258021888/GCFmlCMp_normal.jpg\n",
      "1600173462177607680\n",
      "Sunitasharmaop\n",
      "https://pbs.twimg.com/profile_images/1600030055258021888/GCFmlCMp_normal.jpg\n",
      "1600172703021174786\n",
      "satishpatel41\n",
      "https://pbs.twimg.com/profile_images/1567482936500572161/uY7FOFgy_normal.jpg\n",
      "1600171967654395909\n",
      "spyder_verse\n",
      "https://pbs.twimg.com/profile_images/1518792578984198144/BQwcWB75_normal.jpg\n",
      "1600171082497273856\n",
      "wave_TD\n",
      "https://pbs.twimg.com/profile_images/1592121463494025221/X9BL68Y7_normal.jpg\n",
      "1600169731289321472\n",
      "TheInexperienTr\n",
      "https://pbs.twimg.com/profile_images/1589771165555376128/JN_-bjxD_normal.jpg\n",
      "1600166995320016896\n",
      "IfbIndri\n",
      "https://pbs.twimg.com/profile_images/1284819175303569408/32-FZ9_n_normal.jpg\n",
      "1600165400813400065\n",
      "kmasterzone\n",
      "https://pbs.twimg.com/profile_images/1103289664713060352/ZlyRdelx_normal.jpg\n",
      "1600164474442633217\n",
      "ManojShinde01\n",
      "https://pbs.twimg.com/profile_images/1506816224813977604/vSJtIwrp_normal.jpg\n",
      "1600164203301511168\n",
      "fraingarza\n",
      "https://pbs.twimg.com/profile_images/1486367840240390151/q0_1F-0t_normal.jpg\n",
      "1600164133873209348\n",
      "PartAngelJudea\n",
      "https://pbs.twimg.com/profile_images/1575578145054507011/MmIYUl53_normal.jpg\n",
      "1600164041036812289\n",
      "sheedhu130\n",
      "https://pbs.twimg.com/profile_images/1586586408554496000/ptQUlof__normal.jpg\n",
      "1600163669371154433\n",
      "3mit_patel\n",
      "https://pbs.twimg.com/profile_images/1583449797625012225/if6-KHiQ_normal.jpg\n",
      "1600162781919326209\n",
      "belranjan\n",
      "https://pbs.twimg.com/profile_images/834839768403935241/hfjxNUpu_normal.jpg\n",
      "1600162717553549314\n",
      "mpchamp01\n",
      "https://pbs.twimg.com/profile_images/1562498067894763521/0W0F27HF_normal.jpg\n",
      "1600162607754727427\n",
      "BhaskarMazumd13\n",
      "https://pbs.twimg.com/profile_images/1600164147634659328/oJI3J2J2_normal.jpg\n",
      "1600160625874698240\n",
      "RespectWallSt\n",
      "https://pbs.twimg.com/profile_images/1480218647285035008/zkmZWDox_normal.png\n",
      "1600159920011509760\n",
      "Chawkz1215\n",
      "https://pbs.twimg.com/profile_images/1432810996326797315/tSfN6pMg_normal.jpg\n",
      "1600159747595960322\n",
      "hiroyuk37368699\n",
      "https://pbs.twimg.com/profile_images/1456795773929410561/D9keCO27_normal.jpg\n",
      "1600159194463674374\n",
      "gupta123654789\n",
      "https://abs.twimg.com/sticky/default_profile_images/default_profile_normal.png\n",
      "1600159079921393664\n",
      "iananomous19\n",
      "https://pbs.twimg.com/profile_images/1599434876758867969/UyIus88C_normal.jpg\n",
      "1600158595446108160\n",
      "KalyanaramanSi1\n",
      "https://pbs.twimg.com/profile_images/1379243906139713537/sX1g8iCX_normal.jpg\n",
      "1600157499327655937\n",
      "Debasis98364167\n",
      "https://abs.twimg.com/sticky/default_profile_images/default_profile_normal.png\n",
      "1600154883478282241\n",
      "wiseman57741006\n",
      "https://pbs.twimg.com/profile_images/1594994378765991938/fIuPM8ZE_normal.png\n",
      "1600154858744840197\n",
      "YMehta_\n",
      "https://pbs.twimg.com/profile_images/1559469257557061632/QJM2iR7W_normal.jpg\n",
      "1600154829665366016\n",
      "MASTERFL3X05\n",
      "https://pbs.twimg.com/profile_images/1539267183678631938/CGixuSkY_normal.jpg\n",
      "1600154615445860360\n",
      "stock26583922\n",
      "https://pbs.twimg.com/profile_images/1570389100821360641/78y0KKlS_normal.jpg\n",
      "1600154431462440962\n",
      "OptionAlarm\n",
      "https://pbs.twimg.com/profile_images/1187990974/OA_Logo_Twitter_normal.jpg\n",
      "1600152931541868544\n",
      "ManojShinde01\n",
      "https://pbs.twimg.com/profile_images/1506816224813977604/vSJtIwrp_normal.jpg\n"
     ]
    }
   ],
   "source": [
    "#here get all tweet id\n",
    "users={u['id']:u for u in response.includes['users']}\n",
    "for tweet in response.data:\n",
    "    if users[tweet.author_id]:\n",
    "        user=users[tweet.author_id]\n",
    "        print(tweet.id)\n",
    "        print(user.username)\n",
    "        print(user.profile_image_url)\n",
    "        \n",
    "        \n",
    "   "
   ]
  },
  {
   "cell_type": "code",
   "execution_count": 51,
   "id": "e72f554e",
   "metadata": {},
   "outputs": [
    {
     "ename": "AttributeError",
     "evalue": "module 'tweepy' has no attribute 'paginator'",
     "output_type": "error",
     "traceback": [
      "\u001b[1;31m---------------------------------------------------------------------------\u001b[0m",
      "\u001b[1;31mAttributeError\u001b[0m                            Traceback (most recent call last)",
      "Input \u001b[1;32mIn [51]\u001b[0m, in \u001b[0;36m<cell line: 1>\u001b[1;34m()\u001b[0m\n\u001b[1;32m----> 1\u001b[0m \u001b[38;5;28;01mfor\u001b[39;00m tweet \u001b[38;5;129;01min\u001b[39;00m \u001b[43mtweepy\u001b[49m\u001b[38;5;241;43m.\u001b[39;49m\u001b[43mpaginator\u001b[49m(client\u001b[38;5;241m.\u001b[39msearch_recent_tweets,query\u001b[38;5;241m=\u001b[39mquery,max_results\u001b[38;5;241m=\u001b[39m\u001b[38;5;241m100\u001b[39m)\u001b[38;5;241m.\u001b[39mflatten(limit\u001b[38;5;241m=\u001b[39m\u001b[38;5;241m500\u001b[39m):\n\u001b[0;32m      2\u001b[0m     \u001b[38;5;28mprint\u001b[39m(tweet\u001b[38;5;241m.\u001b[39mid)\n",
      "\u001b[1;31mAttributeError\u001b[0m: module 'tweepy' has no attribute 'paginator'"
     ]
    }
   ],
   "source": [
    "for tweet in tweepy.paginator(client.search_recent_tweets,query=query,max_results=100).flatten(limit=500):\n",
    "    print(tweet.id)"
   ]
  },
  {
   "cell_type": "code",
   "execution_count": 34,
   "id": "8bb5db10",
   "metadata": {},
   "outputs": [
    {
     "ename": "AttributeError",
     "evalue": "module 'tweepy' has no attribute 'paginator'",
     "output_type": "error",
     "traceback": [
      "\u001b[1;31m---------------------------------------------------------------------------\u001b[0m",
      "\u001b[1;31mAttributeError\u001b[0m                            Traceback (most recent call last)",
      "Input \u001b[1;32mIn [34]\u001b[0m, in \u001b[0;36m<cell line: 1>\u001b[1;34m()\u001b[0m\n\u001b[1;32m----> 1\u001b[0m \u001b[38;5;28;01mfor\u001b[39;00m tweet \u001b[38;5;129;01min\u001b[39;00m \u001b[43mtweepy\u001b[49m\u001b[38;5;241;43m.\u001b[39;49m\u001b[43mpaginator\u001b[49m(client\u001b[38;5;241m.\u001b[39msearch_recent_tweets,query\u001b[38;5;241m=\u001b[39mquery,max_results\u001b[38;5;241m=\u001b[39m\u001b[38;5;241m100\u001b[39m)\u001b[38;5;241m.\u001b[39mflatten(limit\u001b[38;5;241m=\u001b[39m\u001b[38;5;241m500\u001b[39m):\n\u001b[0;32m      2\u001b[0m     \u001b[38;5;28mprint\u001b[39m(tweet\u001b[38;5;241m.\u001b[39mid)\n",
      "\u001b[1;31mAttributeError\u001b[0m: module 'tweepy' has no attribute 'paginator'"
     ]
    }
   ],
   "source": [
    "file_name='tweets.txt'\n",
    "#a plus append into the same file\n",
    "with opne(file_name,'a+') as filehandler:\n",
    "for tweet in tweepy.paginator(client.search_recent_tweets,query=query,max_results=100).flatten(limit=500):\n",
    "    print(tweet.id)\n",
    "    filehandler.write('%s\\n' %tweet.id) # note %s\\n it wrtie one line at the time"
   ]
  },
  {
   "cell_type": "code",
   "execution_count": 36,
   "id": "323b9df3",
   "metadata": {
    "scrolled": true
   },
   "outputs": [
    {
     "ename": "Forbidden",
     "evalue": "403 Forbidden\nWhen authenticating requests to the Twitter API v2 endpoints, you must use keys and tokens from a Twitter developer App that is attached to a Project. You can create a project via the developer portal.",
     "output_type": "error",
     "traceback": [
      "\u001b[1;31m---------------------------------------------------------------------------\u001b[0m",
      "\u001b[1;31mForbidden\u001b[0m                                 Traceback (most recent call last)",
      "Input \u001b[1;32mIn [36]\u001b[0m, in \u001b[0;36m<cell line: 4>\u001b[1;34m()\u001b[0m\n\u001b[0;32m      2\u001b[0m start_time\u001b[38;5;241m=\u001b[39m\u001b[38;5;124m'\u001b[39m\u001b[38;5;124m2020-01-01T00:00:00Z\u001b[39m\u001b[38;5;124m'\u001b[39m\n\u001b[0;32m      3\u001b[0m end_time\u001b[38;5;241m=\u001b[39m\u001b[38;5;124m'\u001b[39m\u001b[38;5;124m2020-05-01-01T00:00:00Z\u001b[39m\u001b[38;5;124m'\u001b[39m\n\u001b[1;32m----> 4\u001b[0m response\u001b[38;5;241m=\u001b[39m\u001b[43mclient\u001b[49m\u001b[38;5;241;43m.\u001b[39;49m\u001b[43msearch_all_tweets\u001b[49m\u001b[43m(\u001b[49m\u001b[43mquery\u001b[49m\u001b[38;5;241;43m=\u001b[39;49m\u001b[43mquery\u001b[49m\u001b[43m,\u001b[49m\u001b[43mmax_results\u001b[49m\u001b[38;5;241;43m=\u001b[39;49m\u001b[38;5;241;43m100\u001b[39;49m\u001b[43m,\u001b[49m\u001b[43mstart_time\u001b[49m\u001b[38;5;241;43m=\u001b[39;49m\u001b[43mstart_time\u001b[49m\u001b[43m,\u001b[49m\u001b[43mend_time\u001b[49m\u001b[38;5;241;43m=\u001b[39;49m\u001b[43mend_time\u001b[49m\u001b[43m)\u001b[49m\n\u001b[0;32m      5\u001b[0m \u001b[38;5;28;01mfor\u001b[39;00m tweet \u001b[38;5;129;01min\u001b[39;00m response\u001b[38;5;241m.\u001b[39mdata: \u001b[38;5;66;03m# do not forgot .data\u001b[39;00m\n\u001b[0;32m      6\u001b[0m     \u001b[38;5;28mprint\u001b[39m(tweet\u001b[38;5;241m.\u001b[39mid)\n",
      "File \u001b[1;32mD:\\ANACODA\\lib\\site-packages\\tweepy\\client.py:1163\u001b[0m, in \u001b[0;36mClient.search_all_tweets\u001b[1;34m(self, query, **params)\u001b[0m\n\u001b[0;32m   1071\u001b[0m \u001b[38;5;124;03m\"\"\"search_all_tweets( \\\u001b[39;00m\n\u001b[0;32m   1072\u001b[0m \u001b[38;5;124;03m    query, *, end_time=None, expansions=None, max_results=None, \\\u001b[39;00m\n\u001b[0;32m   1073\u001b[0m \u001b[38;5;124;03m    media_fields=None, next_token=None, place_fields=None, \\\u001b[39;00m\n\u001b[1;32m   (...)\u001b[0m\n\u001b[0;32m   1160\u001b[0m \u001b[38;5;124;03m.. _pagination: https://developer.twitter.com/en/docs/twitter-api/tweets/search/integrate/paginate\u001b[39;00m\n\u001b[0;32m   1161\u001b[0m \u001b[38;5;124;03m\"\"\"\u001b[39;00m\n\u001b[0;32m   1162\u001b[0m params[\u001b[38;5;124m\"\u001b[39m\u001b[38;5;124mquery\u001b[39m\u001b[38;5;124m\"\u001b[39m] \u001b[38;5;241m=\u001b[39m query\n\u001b[1;32m-> 1163\u001b[0m \u001b[38;5;28;01mreturn\u001b[39;00m \u001b[38;5;28;43mself\u001b[39;49m\u001b[38;5;241;43m.\u001b[39;49m\u001b[43m_make_request\u001b[49m\u001b[43m(\u001b[49m\n\u001b[0;32m   1164\u001b[0m \u001b[43m    \u001b[49m\u001b[38;5;124;43m\"\u001b[39;49m\u001b[38;5;124;43mGET\u001b[39;49m\u001b[38;5;124;43m\"\u001b[39;49m\u001b[43m,\u001b[49m\u001b[43m \u001b[49m\u001b[38;5;124;43m\"\u001b[39;49m\u001b[38;5;124;43m/2/tweets/search/all\u001b[39;49m\u001b[38;5;124;43m\"\u001b[39;49m\u001b[43m,\u001b[49m\u001b[43m \u001b[49m\u001b[43mparams\u001b[49m\u001b[38;5;241;43m=\u001b[39;49m\u001b[43mparams\u001b[49m\u001b[43m,\u001b[49m\n\u001b[0;32m   1165\u001b[0m \u001b[43m    \u001b[49m\u001b[43mendpoint_parameters\u001b[49m\u001b[38;5;241;43m=\u001b[39;49m\u001b[43m(\u001b[49m\n\u001b[0;32m   1166\u001b[0m \u001b[43m        \u001b[49m\u001b[38;5;124;43m\"\u001b[39;49m\u001b[38;5;124;43mend_time\u001b[39;49m\u001b[38;5;124;43m\"\u001b[39;49m\u001b[43m,\u001b[49m\u001b[43m \u001b[49m\u001b[38;5;124;43m\"\u001b[39;49m\u001b[38;5;124;43mexpansions\u001b[39;49m\u001b[38;5;124;43m\"\u001b[39;49m\u001b[43m,\u001b[49m\u001b[43m \u001b[49m\u001b[38;5;124;43m\"\u001b[39;49m\u001b[38;5;124;43mmax_results\u001b[39;49m\u001b[38;5;124;43m\"\u001b[39;49m\u001b[43m,\u001b[49m\u001b[43m \u001b[49m\u001b[38;5;124;43m\"\u001b[39;49m\u001b[38;5;124;43mmedia.fields\u001b[39;49m\u001b[38;5;124;43m\"\u001b[39;49m\u001b[43m,\u001b[49m\n\u001b[0;32m   1167\u001b[0m \u001b[43m        \u001b[49m\u001b[38;5;124;43m\"\u001b[39;49m\u001b[38;5;124;43mnext_token\u001b[39;49m\u001b[38;5;124;43m\"\u001b[39;49m\u001b[43m,\u001b[49m\u001b[43m \u001b[49m\u001b[38;5;124;43m\"\u001b[39;49m\u001b[38;5;124;43mplace.fields\u001b[39;49m\u001b[38;5;124;43m\"\u001b[39;49m\u001b[43m,\u001b[49m\u001b[43m \u001b[49m\u001b[38;5;124;43m\"\u001b[39;49m\u001b[38;5;124;43mpoll.fields\u001b[39;49m\u001b[38;5;124;43m\"\u001b[39;49m\u001b[43m,\u001b[49m\u001b[43m \u001b[49m\u001b[38;5;124;43m\"\u001b[39;49m\u001b[38;5;124;43mquery\u001b[39;49m\u001b[38;5;124;43m\"\u001b[39;49m\u001b[43m,\u001b[49m\n\u001b[0;32m   1168\u001b[0m \u001b[43m        \u001b[49m\u001b[38;5;124;43m\"\u001b[39;49m\u001b[38;5;124;43msince_id\u001b[39;49m\u001b[38;5;124;43m\"\u001b[39;49m\u001b[43m,\u001b[49m\u001b[43m \u001b[49m\u001b[38;5;124;43m\"\u001b[39;49m\u001b[38;5;124;43msort_order\u001b[39;49m\u001b[38;5;124;43m\"\u001b[39;49m\u001b[43m,\u001b[49m\u001b[43m \u001b[49m\u001b[38;5;124;43m\"\u001b[39;49m\u001b[38;5;124;43mstart_time\u001b[39;49m\u001b[38;5;124;43m\"\u001b[39;49m\u001b[43m,\u001b[49m\u001b[43m \u001b[49m\u001b[38;5;124;43m\"\u001b[39;49m\u001b[38;5;124;43mtweet.fields\u001b[39;49m\u001b[38;5;124;43m\"\u001b[39;49m\u001b[43m,\u001b[49m\n\u001b[0;32m   1169\u001b[0m \u001b[43m        \u001b[49m\u001b[38;5;124;43m\"\u001b[39;49m\u001b[38;5;124;43muntil_id\u001b[39;49m\u001b[38;5;124;43m\"\u001b[39;49m\u001b[43m,\u001b[49m\u001b[43m \u001b[49m\u001b[38;5;124;43m\"\u001b[39;49m\u001b[38;5;124;43muser.fields\u001b[39;49m\u001b[38;5;124;43m\"\u001b[39;49m\n\u001b[0;32m   1170\u001b[0m \u001b[43m    \u001b[49m\u001b[43m)\u001b[49m\u001b[43m,\u001b[49m\u001b[43m \u001b[49m\u001b[43mdata_type\u001b[49m\u001b[38;5;241;43m=\u001b[39;49m\u001b[43mTweet\u001b[49m\n\u001b[0;32m   1171\u001b[0m \u001b[43m\u001b[49m\u001b[43m)\u001b[49m\n",
      "File \u001b[1;32mD:\\ANACODA\\lib\\site-packages\\tweepy\\client.py:129\u001b[0m, in \u001b[0;36mBaseClient._make_request\u001b[1;34m(self, method, route, params, endpoint_parameters, json, data_type, user_auth)\u001b[0m\n\u001b[0;32m    123\u001b[0m \u001b[38;5;28;01mdef\u001b[39;00m \u001b[38;5;21m_make_request\u001b[39m(\n\u001b[0;32m    124\u001b[0m     \u001b[38;5;28mself\u001b[39m, method, route, params\u001b[38;5;241m=\u001b[39m{}, endpoint_parameters\u001b[38;5;241m=\u001b[39m(), json\u001b[38;5;241m=\u001b[39m\u001b[38;5;28;01mNone\u001b[39;00m,\n\u001b[0;32m    125\u001b[0m     data_type\u001b[38;5;241m=\u001b[39m\u001b[38;5;28;01mNone\u001b[39;00m, user_auth\u001b[38;5;241m=\u001b[39m\u001b[38;5;28;01mFalse\u001b[39;00m\n\u001b[0;32m    126\u001b[0m ):\n\u001b[0;32m    127\u001b[0m     request_params \u001b[38;5;241m=\u001b[39m \u001b[38;5;28mself\u001b[39m\u001b[38;5;241m.\u001b[39m_process_params(params, endpoint_parameters)\n\u001b[1;32m--> 129\u001b[0m     response \u001b[38;5;241m=\u001b[39m \u001b[38;5;28;43mself\u001b[39;49m\u001b[38;5;241;43m.\u001b[39;49m\u001b[43mrequest\u001b[49m\u001b[43m(\u001b[49m\u001b[43mmethod\u001b[49m\u001b[43m,\u001b[49m\u001b[43m \u001b[49m\u001b[43mroute\u001b[49m\u001b[43m,\u001b[49m\u001b[43m \u001b[49m\u001b[43mparams\u001b[49m\u001b[38;5;241;43m=\u001b[39;49m\u001b[43mrequest_params\u001b[49m\u001b[43m,\u001b[49m\n\u001b[0;32m    130\u001b[0m \u001b[43m                            \u001b[49m\u001b[43mjson\u001b[49m\u001b[38;5;241;43m=\u001b[39;49m\u001b[43mjson\u001b[49m\u001b[43m,\u001b[49m\u001b[43m \u001b[49m\u001b[43muser_auth\u001b[49m\u001b[38;5;241;43m=\u001b[39;49m\u001b[43muser_auth\u001b[49m\u001b[43m)\u001b[49m\n\u001b[0;32m    132\u001b[0m     \u001b[38;5;28;01mif\u001b[39;00m \u001b[38;5;28mself\u001b[39m\u001b[38;5;241m.\u001b[39mreturn_type \u001b[38;5;129;01mis\u001b[39;00m requests\u001b[38;5;241m.\u001b[39mResponse:\n\u001b[0;32m    133\u001b[0m         \u001b[38;5;28;01mreturn\u001b[39;00m response\n",
      "File \u001b[1;32mD:\\ANACODA\\lib\\site-packages\\tweepy\\client.py:100\u001b[0m, in \u001b[0;36mBaseClient.request\u001b[1;34m(self, method, route, params, json, user_auth)\u001b[0m\n\u001b[0;32m     98\u001b[0m     \u001b[38;5;28;01mraise\u001b[39;00m Unauthorized(response)\n\u001b[0;32m     99\u001b[0m \u001b[38;5;28;01mif\u001b[39;00m response\u001b[38;5;241m.\u001b[39mstatus_code \u001b[38;5;241m==\u001b[39m \u001b[38;5;241m403\u001b[39m:\n\u001b[1;32m--> 100\u001b[0m     \u001b[38;5;28;01mraise\u001b[39;00m Forbidden(response)\n\u001b[0;32m    101\u001b[0m \u001b[38;5;28;01mif\u001b[39;00m response\u001b[38;5;241m.\u001b[39mstatus_code \u001b[38;5;241m==\u001b[39m \u001b[38;5;241m404\u001b[39m:\n\u001b[0;32m    102\u001b[0m     \u001b[38;5;28;01mraise\u001b[39;00m NotFound(response)\n",
      "\u001b[1;31mForbidden\u001b[0m: 403 Forbidden\nWhen authenticating requests to the Twitter API v2 endpoints, you must use keys and tokens from a Twitter developer App that is attached to a Project. You can create a project via the developer portal."
     ]
    }
   ],
   "source": [
    "\n",
    "# need academic access\n",
    "query='short trading strategy'\n",
    "start_time='2020-01-01T00:00:00Z'\n",
    "end_time='2020-05-01-01T00:00:00Z'\n",
    "response=client.search_all_tweets(query=query,max_results=100,start_time=start_time,end_time=end_time)\n",
    "for tweet in response.data: # do not forgot .data\n",
    "    print(tweet.id)"
   ]
  },
  {
   "cell_type": "code",
   "execution_count": 38,
   "id": "439f1582",
   "metadata": {
    "scrolled": true
   },
   "outputs": [
    {
     "name": "stdout",
     "output_type": "stream",
     "text": [
      "{'end': '2022-11-30T00:00:00.000Z', 'start': '2022-11-29T17:39:13.000Z', 'tweet_count': 8}\n",
      "{'end': '2022-12-01T00:00:00.000Z', 'start': '2022-11-30T00:00:00.000Z', 'tweet_count': 57}\n",
      "{'end': '2022-12-02T00:00:00.000Z', 'start': '2022-12-01T00:00:00.000Z', 'tweet_count': 56}\n",
      "{'end': '2022-12-03T00:00:00.000Z', 'start': '2022-12-02T00:00:00.000Z', 'tweet_count': 36}\n",
      "{'end': '2022-12-04T00:00:00.000Z', 'start': '2022-12-03T00:00:00.000Z', 'tweet_count': 47}\n",
      "{'end': '2022-12-05T00:00:00.000Z', 'start': '2022-12-04T00:00:00.000Z', 'tweet_count': 46}\n",
      "{'end': '2022-12-06T00:00:00.000Z', 'start': '2022-12-05T00:00:00.000Z', 'tweet_count': 65}\n",
      "{'end': '2022-12-06T17:39:13.000Z', 'start': '2022-12-06T00:00:00.000Z', 'tweet_count': 47}\n"
     ]
    }
   ],
   "source": [
    "# recent count \n",
    "counts=client.get_recent_tweets_count(query=query,granularity='day')\n",
    "for count in counts.data:\n",
    "    print(count)"
   ]
  },
  {
   "cell_type": "code",
   "execution_count": null,
   "id": "2f1669d5",
   "metadata": {},
   "outputs": [],
   "source": [
    "# recent count \n",
    "counts=client.get_recent_tweets_count(query=query,granularity='day')\n",
    "for count in counts.data:\n",
    "    print(count)"
   ]
  },
  {
   "cell_type": "code",
   "execution_count": null,
   "id": "f6337bb3",
   "metadata": {},
   "outputs": [],
   "source": [
    "users={u['id']:u for u in response.includes['users']}\n",
    "for tweet in response.data:\n",
    "    if users[tweet.author_id]:\n",
    "        user=users[tweet.author_id]\n",
    "        print(tweet.id)\n",
    "        print(user.username)\n",
    "        print(user.profile_image_url)"
   ]
  },
  {
   "cell_type": "code",
   "execution_count": null,
   "id": "6c2726b9",
   "metadata": {},
   "outputs": [],
   "source": [
    "client.get_"
   ]
  },
  {
   "cell_type": "code",
   "execution_count": 39,
   "id": "ac753eec",
   "metadata": {},
   "outputs": [
    {
     "ename": "AttributeError",
     "evalue": "'Client' object has no attribute 'get_uers_followers'",
     "output_type": "error",
     "traceback": [
      "\u001b[1;31m---------------------------------------------------------------------------\u001b[0m",
      "\u001b[1;31mAttributeError\u001b[0m                            Traceback (most recent call last)",
      "Input \u001b[1;32mIn [39]\u001b[0m, in \u001b[0;36m<cell line: 1>\u001b[1;34m()\u001b[0m\n\u001b[1;32m----> 1\u001b[0m \u001b[43mclient\u001b[49m\u001b[38;5;241;43m.\u001b[39;49m\u001b[43mget_uers_followers\u001b[49m(\u001b[38;5;28mid\u001b[39m\u001b[38;5;241m=\u001b[39mconfig\u001b[38;5;241m.\u001b[39mUSER_ID)\n",
      "\u001b[1;31mAttributeError\u001b[0m: 'Client' object has no attribute 'get_uers_followers'"
     ]
    }
   ],
   "source": [
    "user=client.get_uers_followers(id=config.USER_ID)\n",
    "for user in user.data:\n",
    "    print(user)"
   ]
  },
  {
   "cell_type": "code",
   "execution_count": null,
   "id": "3d68b4eb",
   "metadata": {},
   "outputs": [],
   "source": []
  }
 ],
 "metadata": {
  "kernelspec": {
   "display_name": "Python 3 (ipykernel)",
   "language": "python",
   "name": "python3"
  },
  "language_info": {
   "codemirror_mode": {
    "name": "ipython",
    "version": 3
   },
   "file_extension": ".py",
   "mimetype": "text/x-python",
   "name": "python",
   "nbconvert_exporter": "python",
   "pygments_lexer": "ipython3",
   "version": "3.9.12"
  }
 },
 "nbformat": 4,
 "nbformat_minor": 5
}
